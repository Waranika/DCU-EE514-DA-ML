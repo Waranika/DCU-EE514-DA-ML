{
  "nbformat": 4,
  "nbformat_minor": 0,
  "metadata": {
    "colab": {
      "provenance": [],
      "mount_file_id": "175m_1VeX4_u-Yn4OITyB3pP9-uhfF38L",
      "authorship_tag": "ABX9TyOn+2ENIXEESi9RPYFzu3ym",
      "include_colab_link": true
    },
    "kernelspec": {
      "name": "python3",
      "display_name": "Python 3"
    },
    "language_info": {
      "name": "python"
    }
  },
  "cells": [
    {
      "cell_type": "markdown",
      "metadata": {
        "id": "view-in-github",
        "colab_type": "text"
      },
      "source": [
        "<a href=\"https://colab.research.google.com/github/Waranika/DCU-EE514-DA-ML/blob/main/Assignement/Assignement_1.ipynb\" target=\"_parent\"><img src=\"https://colab.research.google.com/assets/colab-badge.svg\" alt=\"Open In Colab\"/></a>"
      ]
    },
    {
      "cell_type": "code",
      "execution_count": 42,
      "metadata": {
        "id": "AI0E1VS1UUJg"
      },
      "outputs": [],
      "source": [
        "import pandas as pd\n",
        "import gzip\n",
        "import os"
      ]
    },
    {
      "cell_type": "code",
      "source": [
        "path = \"/content/drive/MyDrive/The ExtraSensory Dataset/ExtraSensory.per_uuid_features_labels\""
      ],
      "metadata": {
        "id": "pN2IasR4VRSs"
      },
      "execution_count": 43,
      "outputs": []
    },
    {
      "cell_type": "code",
      "source": [
        "files = [f for f in os.listdir(path) if f.endswith('.gz')]\n",
        "print(files)"
      ],
      "metadata": {
        "colab": {
          "base_uri": "https://localhost:8080/"
        },
        "id": "o6S0qeGCVoKV",
        "outputId": "757294e7-9bf7-49aa-938c-b43990ded7a4"
      },
      "execution_count": 44,
      "outputs": [
        {
          "output_type": "stream",
          "name": "stdout",
          "text": [
            "['A5A30F76-581E-4757-97A2-957553A2C6AA.features_labels.csv.gz', 'BEF6C611-50DA-4971-A040-87FB979F3FC1.features_labels.csv.gz', '098A72A5-E3E5-4F54-A152-BBDA0DF7B694.features_labels.csv.gz', 'D7D20E2E-FC78-405D-B346-DBD3FD8FC92B.features_labels.csv.gz', '2C32C23E-E30C-498A-8DD2-0EFB9150A02E.features_labels.csv.gz', '136562B6-95B2-483D-88DC-065F28409FD2.features_labels.csv.gz', '11B5EC4D-4133-4289-B475-4E737182A406.features_labels.csv.gz', '4FC32141-E888-4BFF-8804-12559A491D8C.features_labels.csv.gz', '86A4F379-B305-473D-9D83-FC7D800180EF.features_labels.csv.gz', 'CA820D43-E5E2-42EF-9798-BE56F776370B.features_labels.csv.gz', 'A5CDF89D-02A2-4EC1-89F8-F534FDABDD96.features_labels.csv.gz', 'B7F9D634-263E-4A97-87F9-6FFB4DDCB36C.features_labels.csv.gz', '1DBB0F6F-1F81-4A50-9DF4-CD62ACFA4842.features_labels.csv.gz', '74B86067-5D4B-43CF-82CF-341B76BEA0F4.features_labels.csv.gz', '33A85C34-CFE4-4732-9E73-0A7AC861B27A.features_labels.csv.gz', '9759096F-1119-4E19-A0AD-6F16989C7E1C.features_labels.csv.gz', 'CDA3BBF7-6631-45E8-85BA-EEB416B32A3C.features_labels.csv.gz', 'F50235E0-DD67-4F2A-B00B-1F31ADA998B9.features_labels.csv.gz', 'E65577C1-8D5D-4F70-AF23-B3ADB9D3DBA3.features_labels.csv.gz', '5EF64122-B513-46AE-BCF1-E62AAC285D2C.features_labels.csv.gz', 'A76A5AF5-5A93-4CF2-A16E-62353BB70E8A.features_labels.csv.gz', '5119D0F8-FCA8-4184-A4EB-19421A40DE0D.features_labels.csv.gz', '5152A2DF-FAF3-4BA8-9CA9-E66B32671A53.features_labels.csv.gz', '61976C24-1C50-4355-9C49-AAE44A7D09F6.features_labels.csv.gz', 'FDAA70A1-42A3-4E3F-9AE3-3FDA412E03BF.features_labels.csv.gz', 'C48CE857-A0DD-4DDB-BEA5-3A25449B2153.features_labels.csv.gz', '00EABED2-271D-49D8-B599-1D4A09240601.features_labels.csv.gz', '7CE37510-56D0-4120-A1CF-0E23351428D2.features_labels.csv.gz', '99B204C0-DD5C-4BB7-83E8-A37281B8D769.features_labels.csv.gz', 'BE3CA5A6-A561-4BBD-B7C9-5DF6805400FC.features_labels.csv.gz', 'CCAF77F0-FABB-4F2F-9E24-D56AD0C5A82F.features_labels.csv.gz', '61359772-D8D8-480D-B623-7C636EAD0C81.features_labels.csv.gz', '0BFC35E2-4817-4865-BFA7-764742302A2D.features_labels.csv.gz', '1538C99F-BA1E-4EFB-A949-6C7C47701B20.features_labels.csv.gz', '24E40C4C-A349-4F9F-93AB-01D00FB994AF.features_labels.csv.gz', '8023FE1A-D3B0-4E2C-A57A-9321B7FC755F.features_labels.csv.gz', '81536B0A-8DBF-4D8A-AC24-9543E2E4C8E0.features_labels.csv.gz', '3600D531-0C55-44A7-AE95-A7A38519464E.features_labels.csv.gz', '4E98F91F-4654-42EF-B908-A3389443F2E7.features_labels.csv.gz', 'A7599A50-24AE-46A6-8EA6-2576F1011D81.features_labels.csv.gz', 'B09E373F-8A54-44C8-895B-0039390B859F.features_labels.csv.gz', 'ECECC2AB-D32F-4F90-B74C-E12A1C69BBE2.features_labels.csv.gz', 'CF722AA9-2533-4E51-9FEB-9EAC84EE9AAC.features_labels.csv.gz', 'B9724848-C7E2-45F4-9B3F-A1F38D864495.features_labels.csv.gz', '7D9BB102-A612-4E2A-8E22-3159752F55D8.features_labels.csv.gz', '806289BC-AD52-4CC1-806C-0CDB14D65EB6.features_labels.csv.gz', '27E04243-B138-4F40-A164-F40B60165CF3.features_labels.csv.gz', '96A358A0-FFF2-4239-B93E-C7425B901B47.features_labels.csv.gz', '0E6184E1-90C0-48EE-B25A-F1ECB7B9714E.features_labels.csv.gz', '9DC38D04-E82E-4F29-AB52-B476535226F2.features_labels.csv.gz', '78A91A4E-4A51-4065-BDA7-94755F0BB3BB.features_labels.csv.gz', '665514DE-49DC-421F-8DCB-145D0B2609AD.features_labels.csv.gz', '83CF687B-7CEC-434B-9FE8-00C3D5799BE6.features_labels.csv.gz', '0A986513-7828-4D53-AA1F-E02D6DF9561B.features_labels.csv.gz', '797D145F-3858-4A7F-A7C2-A4EB721E133C.features_labels.csv.gz', '40E170A7-607B-4578-AF04-F021C3B0384A.features_labels.csv.gz', '481F4DD2-7689-43B9-A2AA-C8772227162B.features_labels.csv.gz', '1155FF54-63D3-4AB2-9863-8385D0BD0A13.features_labels.csv.gz', '59EEFAE0-DEB0-4FFF-9250-54D2A03D0CF2.features_labels.csv.gz', '59818CD2-24D7-4D32-B133-24C2FE3801E5.features_labels.csv.gz']\n"
          ]
        }
      ]
    },
    {
      "cell_type": "code",
      "source": [
        "df = pd.DataFrame()\n",
        "# Loop through each .gz file, unzip, and append to the DataFrame\n",
        "for gz_file in files:\n",
        "    with gzip.open(os.path.join(path, gz_file), 'rt') as f:\n",
        "        # Assuming the CSV file inside the .gz is comma-separated, adjust delimiter if needed\n",
        "        data = pd.read_csv(f, delimiter=',')\n",
        "        df = pd.concat([df, data], ignore_index=True)"
      ],
      "metadata": {
        "id": "kRBb6AWDVuZ1"
      },
      "execution_count": 45,
      "outputs": []
    },
    {
      "cell_type": "code",
      "source": [
        "print(df)"
      ],
      "metadata": {
        "colab": {
          "base_uri": "https://localhost:8080/"
        },
        "id": "5ZwpKRBNXpMx",
        "outputId": "45bb1f0a-3a09-4137-ccc8-3f308af0d835"
      },
      "execution_count": 46,
      "outputs": [
        {
          "output_type": "stream",
          "name": "stdout",
          "text": [
            "         timestamp  raw_acc:magnitude_stats:mean  raw_acc:magnitude_stats:std  \\\n",
            "0       1437680357                      1.000726                     0.002890   \n",
            "1       1437680405                      1.001435                     0.002014   \n",
            "2       1437680465                      1.001515                     0.003096   \n",
            "3       1437680526                      1.000972                     0.001954   \n",
            "4       1437680616                      1.001143                     0.025751   \n",
            "...            ...                           ...                          ...   \n",
            "377341  1464895317                      1.000707                     0.050293   \n",
            "377342  1464895378                      0.996989                     0.007465   \n",
            "377343  1464895455                      0.996782                     0.011491   \n",
            "377344  1464895515                      0.995879                     0.002902   \n",
            "377345  1464895575                      0.994668                     0.002042   \n",
            "\n",
            "        raw_acc:magnitude_stats:moment3  raw_acc:magnitude_stats:moment4  \\\n",
            "0                             -0.004621                         0.008093   \n",
            "1                             -0.001256                         0.003073   \n",
            "2                              0.002838                         0.007697   \n",
            "3                              0.000897                         0.002621   \n",
            "4                              0.025506                         0.075665   \n",
            "...                                 ...                              ...   \n",
            "377341                         0.039008                         0.091148   \n",
            "377342                         0.010941                         0.018261   \n",
            "377343                         0.014814                         0.030098   \n",
            "377344                        -0.003538                         0.006653   \n",
            "377345                         0.000893                         0.002675   \n",
            "\n",
            "        raw_acc:magnitude_stats:percentile25  \\\n",
            "0                                   0.999317   \n",
            "1                                   1.000112   \n",
            "2                                   1.000133   \n",
            "3                                   0.999601   \n",
            "4                                   0.999225   \n",
            "...                                      ...   \n",
            "377341                              0.984126   \n",
            "377342                              0.993575   \n",
            "377343                              0.994339   \n",
            "377344                              0.994509   \n",
            "377345                              0.993383   \n",
            "\n",
            "        raw_acc:magnitude_stats:percentile50  \\\n",
            "0                                   1.000760   \n",
            "1                                   1.001447   \n",
            "2                                   1.001487   \n",
            "3                                   1.000944   \n",
            "4                                   1.000887   \n",
            "...                                      ...   \n",
            "377341                              0.999571   \n",
            "377342                              0.996567   \n",
            "377343                              0.996342   \n",
            "377344                              0.995963   \n",
            "377345                              0.994637   \n",
            "\n",
            "        raw_acc:magnitude_stats:percentile75  \\\n",
            "0                                   1.002302   \n",
            "1                                   1.002679   \n",
            "2                                   1.002743   \n",
            "3                                   1.002331   \n",
            "4                                   1.002245   \n",
            "...                                      ...   \n",
            "377341                              1.013551   \n",
            "377342                              1.000207   \n",
            "377343                              0.998424   \n",
            "377344                              0.997329   \n",
            "377345                              0.995996   \n",
            "\n",
            "        raw_acc:magnitude_stats:value_entropy  \\\n",
            "0                                    1.397289   \n",
            "1                                    2.134103   \n",
            "2                                    1.151588   \n",
            "3                                    2.445777   \n",
            "4                                    0.451382   \n",
            "...                                       ...   \n",
            "377341                               1.658222   \n",
            "377342                               1.477720   \n",
            "377343                               0.852851   \n",
            "377344                               1.449960   \n",
            "377345                               2.551081   \n",
            "\n",
            "        raw_acc:magnitude_stats:time_entropy  ...  label:STAIRS_-_GOING_DOWN  \\\n",
            "0                                   6.684608  ...                        0.0   \n",
            "1                                   6.684610  ...                        0.0   \n",
            "2                                   6.684607  ...                        0.0   \n",
            "3                                   6.684610  ...                        0.0   \n",
            "4                                   6.684281  ...                        0.0   \n",
            "...                                      ...  ...                        ...   \n",
            "377341                              6.683353  ...                        NaN   \n",
            "377342                              6.684584  ...                        NaN   \n",
            "377343                              6.684546  ...                        NaN   \n",
            "377344                              6.684607  ...                        NaN   \n",
            "377345                              6.684610  ...                        NaN   \n",
            "\n",
            "        label:ELEVATOR  label:OR_standing  label:AT_SCHOOL  \\\n",
            "0                  0.0                0.0              1.0   \n",
            "1                  0.0                0.0              1.0   \n",
            "2                  0.0                0.0              1.0   \n",
            "3                  0.0                0.0              1.0   \n",
            "4                  0.0                0.0              1.0   \n",
            "...                ...                ...              ...   \n",
            "377341             NaN                NaN              NaN   \n",
            "377342             NaN                NaN              NaN   \n",
            "377343             NaN                NaN              NaN   \n",
            "377344             NaN                NaN              NaN   \n",
            "377345             NaN                NaN              NaN   \n",
            "\n",
            "        label:PHONE_IN_HAND  label:PHONE_IN_BAG  label:PHONE_ON_TABLE  \\\n",
            "0                       NaN                 NaN                   NaN   \n",
            "1                       NaN                 NaN                   NaN   \n",
            "2                       NaN                 NaN                   NaN   \n",
            "3                       NaN                 NaN                   NaN   \n",
            "4                       NaN                 NaN                   NaN   \n",
            "...                     ...                 ...                   ...   \n",
            "377341                  NaN                 NaN                   NaN   \n",
            "377342                  NaN                 NaN                   NaN   \n",
            "377343                  NaN                 NaN                   NaN   \n",
            "377344                  NaN                 NaN                   NaN   \n",
            "377345                  NaN                 NaN                   NaN   \n",
            "\n",
            "        label:WITH_CO-WORKERS  label:WITH_FRIENDS  label_source  \n",
            "0                         NaN                 NaN             2  \n",
            "1                         NaN                 NaN             2  \n",
            "2                         NaN                 NaN             2  \n",
            "3                         NaN                 NaN             2  \n",
            "4                         NaN                 NaN             2  \n",
            "...                       ...                 ...           ...  \n",
            "377341                    NaN                 NaN            -1  \n",
            "377342                    NaN                 NaN            -1  \n",
            "377343                    NaN                 NaN            -1  \n",
            "377344                    NaN                 NaN            -1  \n",
            "377345                    NaN                 NaN            -1  \n",
            "\n",
            "[377346 rows x 278 columns]\n"
          ]
        }
      ]
    },
    {
      "cell_type": "markdown",
      "source": [
        "PREPROCESSING"
      ],
      "metadata": {
        "id": "TWwrWahuYIRq"
      }
    },
    {
      "cell_type": "markdown",
      "source": [
        "Delete incomplete columns\n"
      ],
      "metadata": {
        "id": "jh5RPbwncnQI"
      }
    },
    {
      "cell_type": "code",
      "source": [
        "count = 0\n",
        "j = 0\n",
        "for i in df.columns:\n",
        "    if j > 225:\n",
        "      break\n",
        "    # Count the occurrences of 'na' in each column\n",
        "    count = (df[i] == 'nan').sum()\n",
        "    j = j+1\n",
        "    # Check if the total count of 'na' values and NaN values exceeds a threshold\n",
        "    if df[i].isnull().sum() + count > 377346*0.6 :\n",
        "        # Delete the column if the condition is met\n",
        "        print(i)\n",
        "        print(df[i].isnull().sum() + count)\n",
        "        del df[i]"
      ],
      "metadata": {
        "colab": {
          "base_uri": "https://localhost:8080/"
        },
        "id": "lbzbSwu4cqhD",
        "outputId": "8d3c868a-eef0-4c80-90f4-4333f922e443"
      },
      "execution_count": 47,
      "outputs": [
        {
          "output_type": "stream",
          "name": "stdout",
          "text": [
            "watch_heading:mean_cos\n",
            "229931\n",
            "watch_heading:std_cos\n",
            "229931\n",
            "watch_heading:mom3_cos\n",
            "229931\n",
            "watch_heading:mom4_cos\n",
            "229931\n",
            "watch_heading:mean_sin\n",
            "229931\n",
            "watch_heading:std_sin\n",
            "229931\n",
            "watch_heading:mom3_sin\n",
            "229931\n",
            "watch_heading:mom4_sin\n",
            "229931\n",
            "watch_heading:entropy_8bins\n",
            "229931\n",
            "location:min_speed\n",
            "272817\n",
            "location:max_speed\n",
            "272817\n",
            "lf_measurements:light\n",
            "230314\n",
            "lf_measurements:pressure\n",
            "270151\n",
            "lf_measurements:proximity_cm\n",
            "228726\n",
            "lf_measurements:relative_humidity\n",
            "351407\n",
            "lf_measurements:temperature_ambient\n",
            "350896\n"
          ]
        }
      ]
    },
    {
      "cell_type": "code",
      "source": [
        "print(df.shape)"
      ],
      "metadata": {
        "colab": {
          "base_uri": "https://localhost:8080/"
        },
        "id": "N4fjvEMMfomN",
        "outputId": "ba52a593-bf50-4f59-fd69-93937714080b"
      },
      "execution_count": 49,
      "outputs": [
        {
          "output_type": "stream",
          "name": "stdout",
          "text": [
            "(377346, 262)\n"
          ]
        }
      ]
    },
    {
      "cell_type": "markdown",
      "source": [
        "Delete irrelevant columns for the analysis"
      ],
      "metadata": {
        "id": "GpgjocI6glum"
      }
    },
    {
      "cell_type": "code",
      "source": [
        "del df['timestamp']\n",
        "#delete location too ?"
      ],
      "metadata": {
        "id": "TBqewtpQg1ej"
      },
      "execution_count": null,
      "outputs": []
    },
    {
      "cell_type": "markdown",
      "source": [
        "Check if there is correlation between column and label  to predict"
      ],
      "metadata": {
        "id": "pD1uJo2Bj7e-"
      }
    },
    {
      "cell_type": "code",
      "source": [
        "print(pd.crosstab(df['location:min_altitude'], df[\"label:DOING_LAUNDRY\"]))"
      ],
      "metadata": {
        "colab": {
          "base_uri": "https://localhost:8080/"
        },
        "id": "zM_TGCWvjin6",
        "outputId": "16277bce-60ab-4999-af1d-8e30fa52acf7"
      },
      "execution_count": 50,
      "outputs": [
        {
          "output_type": "stream",
          "name": "stdout",
          "text": [
            "label:DOING_LAUNDRY    0.0  1.0\n",
            "location:min_altitude          \n",
            "-61.000000               1    0\n",
            "-53.540051               1    0\n",
            "-49.290909               1    0\n",
            "-46.857464               1    0\n",
            "-45.682125               1    0\n",
            "...                    ...  ...\n",
            " 683.221985              1    0\n",
            " 683.269836              1    0\n",
            " 691.698425              1    0\n",
            " 699.411621              1    0\n",
            " 734.171143              1    0\n",
            "\n",
            "[38459 rows x 2 columns]\n"
          ]
        }
      ]
    },
    {
      "cell_type": "markdown",
      "source": [
        "BUILD MODEL"
      ],
      "metadata": {
        "id": "USN91dwrkK3S"
      }
    },
    {
      "cell_type": "markdown",
      "source": [
        "CHECK RESULTS\n"
      ],
      "metadata": {
        "id": "ITOih7kBkNL2"
      }
    },
    {
      "cell_type": "code",
      "source": [],
      "metadata": {
        "id": "p69BYsgSkQQM"
      },
      "execution_count": null,
      "outputs": []
    }
  ]
}