{
  "nbformat": 4,
  "nbformat_minor": 0,
  "metadata": {
    "colab": {
      "provenance": [],
      "gpuType": "T4",
      "mount_file_id": "https://github.com/Waranika/DCU-EE514-DA-ML/blob/main/Assignement/Assignement_1.ipynb",
      "authorship_tag": "ABX9TyNBLdk9QacN0mcswodLrcmX",
      "include_colab_link": true
    },
    "kernelspec": {
      "name": "python3",
      "display_name": "Python 3"
    },
    "language_info": {
      "name": "python"
    },
    "accelerator": "GPU"
  },
  "cells": [
    {
      "cell_type": "markdown",
      "metadata": {
        "id": "view-in-github",
        "colab_type": "text"
      },
      "source": [
        "<a href=\"https://colab.research.google.com/github/Waranika/DCU-EE514-DA-ML/blob/main/Assignement/Assignement_1.ipynb\" target=\"_parent\"><img src=\"https://colab.research.google.com/assets/colab-badge.svg\" alt=\"Open In Colab\"/></a>"
      ]
    },
    {
      "cell_type": "code",
      "source": [
        "!nvidia-smi"
      ],
      "metadata": {
        "id": "L5WVHYfabkVy",
        "outputId": "0c9a8220-e37c-435b-97a1-86d10852efe8",
        "colab": {
          "base_uri": "https://localhost:8080/"
        }
      },
      "execution_count": 1,
      "outputs": [
        {
          "output_type": "stream",
          "name": "stdout",
          "text": [
            "Fri Nov 24 13:31:01 2023       \n",
            "+-----------------------------------------------------------------------------+\n",
            "| NVIDIA-SMI 525.105.17   Driver Version: 525.105.17   CUDA Version: 12.0     |\n",
            "|-------------------------------+----------------------+----------------------+\n",
            "| GPU  Name        Persistence-M| Bus-Id        Disp.A | Volatile Uncorr. ECC |\n",
            "| Fan  Temp  Perf  Pwr:Usage/Cap|         Memory-Usage | GPU-Util  Compute M. |\n",
            "|                               |                      |               MIG M. |\n",
            "|===============================+======================+======================|\n",
            "|   0  Tesla T4            Off  | 00000000:00:04.0 Off |                    0 |\n",
            "| N/A   70C    P0    30W /  70W |   1901MiB / 15360MiB |      0%      Default |\n",
            "|                               |                      |                  N/A |\n",
            "+-------------------------------+----------------------+----------------------+\n",
            "                                                                               \n",
            "+-----------------------------------------------------------------------------+\n",
            "| Processes:                                                                  |\n",
            "|  GPU   GI   CI        PID   Type   Process name                  GPU Memory |\n",
            "|        ID   ID                                                   Usage      |\n",
            "|=============================================================================|\n",
            "+-----------------------------------------------------------------------------+\n"
          ]
        }
      ]
    },
    {
      "cell_type": "code",
      "source": [
        "# This get the RAPIDS-Colab install files and test check your GPU.  Run this and the next cell only.\n",
        "# Please read the output of this cell.  If your Colab Instance is not RAPIDS compatible, it will warn you and give you remediation steps.\n",
        "!git clone https://github.com/rapidsai/rapidsai-csp-utils.git\n",
        "!python rapidsai-csp-utils/colab/env-check.py"
      ],
      "metadata": {
        "id": "CiMBrKBAbj0k",
        "outputId": "cafb16e8-4662-4987-dad7-719fe2e2b2d4",
        "colab": {
          "base_uri": "https://localhost:8080/"
        }
      },
      "execution_count": 2,
      "outputs": [
        {
          "output_type": "stream",
          "name": "stdout",
          "text": [
            "fatal: destination path 'rapidsai-csp-utils' already exists and is not an empty directory.\n",
            "Traceback (most recent call last):\n",
            "  File \"/content/rapidsai-csp-utils/colab/env-check.py\", line 28, in <module>\n",
            "    if ('K80' not in gpu_name):\n",
            "TypeError: a bytes-like object is required, not 'str'\n"
          ]
        }
      ]
    },
    {
      "cell_type": "code",
      "source": [
        "# This will update the Colab environment and restart the kernel.  Don't run the next cell until you see the session crash.\n",
        "!bash rapidsai-csp-utils/colab/update_gcc.sh\n",
        "import os\n",
        "os._exit(00)"
      ],
      "metadata": {
        "id": "7YgcK6wKbjtf",
        "outputId": "4c345649-04a6-4268-c670-d432455bba67",
        "colab": {
          "base_uri": "https://localhost:8080/"
        }
      },
      "execution_count": null,
      "outputs": [
        {
          "output_type": "stream",
          "name": "stdout",
          "text": [
            "Updating your Colab environment.  This will restart your kernel.  Don't Panic!\n",
            "\u001b[33mWARNING: Running pip as the 'root' user can result in broken permissions and conflicting behaviour with the system package manager. It is recommended to use a virtual environment instead: https://pip.pypa.io/warnings/venv\u001b[0m\u001b[33m\n",
            "\u001b[0m\u001b[33mWARNING: Skipping cupy-cuda11x as it is not installed.\u001b[0m\u001b[33m\n",
            "\u001b[0m\u001b[33mWARNING: Running pip as the 'root' user can result in broken permissions and conflicting behaviour with the system package manager. It is recommended to use a virtual environment instead: https://pip.pypa.io/warnings/venv\u001b[0m\u001b[33m\n",
            "\u001b[0mPPA publishes dbgsym, you may need to include 'main/debug' component\n",
            "Repository: 'deb https://ppa.launchpadcontent.net/ubuntu-toolchain-r/test/ubuntu/ jammy main'\n",
            "Description:\n",
            "Toolchain test builds; see https://wiki.ubuntu.com/ToolChain\n",
            "\n",
            "More info: https://launchpad.net/~ubuntu-toolchain-r/+archive/ubuntu/test\n",
            "Adding repository.\n",
            "Found existing deb entry in /etc/apt/sources.list.d/ubuntu-toolchain-r-ubuntu-test-jammy.list\n",
            "Adding deb entry to /etc/apt/sources.list.d/ubuntu-toolchain-r-ubuntu-test-jammy.list\n",
            "Found existing deb-src entry in /etc/apt/sources.list.d/ubuntu-toolchain-r-ubuntu-test-jammy.list\n",
            "Adding disabled deb-src entry to /etc/apt/sources.list.d/ubuntu-toolchain-r-ubuntu-test-jammy.list\n",
            "Adding key to /etc/apt/trusted.gpg.d/ubuntu-toolchain-r-ubuntu-test.gpg with fingerprint 60C317803A41BA51845E371A1E9377A2BA9EF27F\n",
            "Hit:1 https://cloud.r-project.org/bin/linux/ubuntu jammy-cran40/ InRelease\n",
            "Hit:2 https://developer.download.nvidia.com/compute/cuda/repos/ubuntu2204/x86_64  InRelease\n",
            "Hit:3 http://archive.ubuntu.com/ubuntu jammy InRelease\n",
            "Get:4 http://security.ubuntu.com/ubuntu jammy-security InRelease [110 kB]\n",
            "Get:5 http://archive.ubuntu.com/ubuntu jammy-updates InRelease [119 kB]\n",
            "Hit:6 https://ppa.launchpadcontent.net/c2d4u.team/c2d4u4.0+/ubuntu jammy InRelease\n",
            "Hit:7 https://ppa.launchpadcontent.net/deadsnakes/ppa/ubuntu jammy InRelease\n",
            "Hit:8 https://ppa.launchpadcontent.net/graphics-drivers/ppa/ubuntu jammy InRelease\n",
            "Hit:9 https://ppa.launchpadcontent.net/ubuntu-toolchain-r/test/ubuntu jammy InRelease\n",
            "Hit:10 https://ppa.launchpadcontent.net/ubuntugis/ppa/ubuntu jammy InRelease\n",
            "Hit:11 http://archive.ubuntu.com/ubuntu jammy-backports InRelease\n",
            "Fetched 229 kB in 2s (126 kB/s)\n",
            "Reading package lists... Done\n",
            "Added repo\n",
            "Hit:1 https://cloud.r-project.org/bin/linux/ubuntu jammy-cran40/ InRelease\n",
            "Hit:2 https://developer.download.nvidia.com/compute/cuda/repos/ubuntu2204/x86_64  InRelease\n",
            "Hit:3 http://security.ubuntu.com/ubuntu jammy-security InRelease\n",
            "Hit:4 http://archive.ubuntu.com/ubuntu jammy InRelease\n",
            "Hit:5 http://archive.ubuntu.com/ubuntu jammy-updates InRelease\n",
            "Hit:6 https://ppa.launchpadcontent.net/c2d4u.team/c2d4u4.0+/ubuntu jammy InRelease\n",
            "Hit:7 http://archive.ubuntu.com/ubuntu jammy-backports InRelease\n",
            "Hit:8 https://ppa.launchpadcontent.net/deadsnakes/ppa/ubuntu jammy InRelease\n",
            "Hit:9 https://ppa.launchpadcontent.net/graphics-drivers/ppa/ubuntu jammy InRelease\n",
            "Hit:10 https://ppa.launchpadcontent.net/ubuntu-toolchain-r/test/ubuntu jammy InRelease\n",
            "Hit:11 https://ppa.launchpadcontent.net/ubuntugis/ppa/ubuntu jammy InRelease\n",
            "Reading package lists... Done\n",
            "Installing libstdc++\n",
            "Reading package lists... Done\n",
            "Building dependency tree... Done\n",
            "Reading state information... Done\n",
            "Package libstdc++6 is not available, but is referred to by another package.\n",
            "This may mean that the package is missing, has been obsoleted, or\n",
            "is only available from another source\n",
            "\n",
            "E: Version '11.1.0*' for 'libstdc++6' was not found\n",
            "restarting Colab...\n"
          ]
        }
      ]
    },
    {
      "cell_type": "code",
      "source": [
        "# This will install CondaColab.  This will restart your kernel one last time.  Run this cell by itself and only run the next cell once you see the session crash.\n",
        "import condacolab\n",
        "condacolab.install()"
      ],
      "metadata": {
        "id": "9uck-VqCbpWb"
      },
      "execution_count": null,
      "outputs": []
    },
    {
      "cell_type": "code",
      "source": [
        "# you can now run the rest of the cells as normal\n",
        "import condacolab\n",
        "condacolab.check()"
      ],
      "metadata": {
        "id": "b7wvFpaibx4h"
      },
      "execution_count": null,
      "outputs": []
    },
    {
      "cell_type": "code",
      "source": [
        "# Installing RAPIDS is now 'python rapidsai-csp-utils/colab/install_rapids.py <release> <packages>'\n",
        "# The <release> options are 'stable' and 'nightly'.  Leaving it blank or adding any other words will default to stable.\n",
        "!python rapidsai-csp-utils/colab/install_rapids.py stable\n",
        "import os\n",
        "os.environ['NUMBAPRO_NVVM'] = '/usr/local/cuda/nvvm/lib64/libnvvm.so'\n",
        "os.environ['NUMBAPRO_LIBDEVICE'] = '/usr/local/cuda/nvvm/libdevice/'\n",
        "os.environ['CONDA_PREFIX'] = '/usr/local'"
      ],
      "metadata": {
        "id": "9JS6Q389bzz3"
      },
      "execution_count": null,
      "outputs": []
    },
    {
      "cell_type": "code",
      "execution_count": null,
      "metadata": {
        "id": "AI0E1VS1UUJg"
      },
      "outputs": [],
      "source": [
        "import pandas as pd\n",
        "import gzip\n",
        "import matplotlib.pyplot as plt\n",
        "import seaborn as sns\n",
        "import os\n",
        "from sklearn.preprocessing import StandardScaler\n",
        "from sklearn.model_selection import train_test_split\n",
        "from cuml.ensemble import RandomForestClassifier\n",
        "from sklearn.multioutput import MultiOutputClassifier\n",
        "from sklearn.metrics import accuracy_score, classification_report"
      ]
    },
    {
      "cell_type": "code",
      "source": [
        "path = \"/content/drive/MyDrive/The ExtraSensory Dataset/ExtraSensory.per_uuid_features_labels\""
      ],
      "metadata": {
        "id": "pN2IasR4VRSs"
      },
      "execution_count": null,
      "outputs": []
    },
    {
      "cell_type": "code",
      "source": [
        "files = [f for f in os.listdir(path) if f.endswith('.gz')]\n",
        "print(files)"
      ],
      "metadata": {
        "id": "o6S0qeGCVoKV"
      },
      "execution_count": null,
      "outputs": []
    },
    {
      "cell_type": "code",
      "source": [
        "df = pd.DataFrame()\n",
        "# Loop through each .gz file, unzip, and append to the DataFrame\n",
        "for gz_file in files:\n",
        "    with gzip.open(os.path.join(path, gz_file), 'rt') as f:\n",
        "        # Assuming the CSV file inside the .gz is comma-separated, adjust delimiter if needed\n",
        "        data = pd.read_csv(f, delimiter=',')\n",
        "        df = pd.concat([df, data], ignore_index=True)"
      ],
      "metadata": {
        "id": "kRBb6AWDVuZ1"
      },
      "execution_count": null,
      "outputs": []
    },
    {
      "cell_type": "code",
      "source": [
        "print(df)"
      ],
      "metadata": {
        "id": "5ZwpKRBNXpMx"
      },
      "execution_count": null,
      "outputs": []
    },
    {
      "cell_type": "markdown",
      "source": [
        "*DATA REPRESENTATION*"
      ],
      "metadata": {
        "id": "kiuJDgnZ5Zqy"
      }
    },
    {
      "cell_type": "code",
      "source": [
        "df.describe()"
      ],
      "metadata": {
        "id": "DiKDuL4g3Fv9"
      },
      "execution_count": null,
      "outputs": []
    },
    {
      "cell_type": "code",
      "source": [
        "# Extracting columns starting with 'proc' or 'raw'\n",
        "raw_data_readings = df.filter(regex='^(proc|raw)')\n",
        "\n",
        "# Describing the selected columns\n",
        "raw_data_readings.describe()\n"
      ],
      "metadata": {
        "id": "Oma6aE_r85AF"
      },
      "execution_count": null,
      "outputs": []
    },
    {
      "cell_type": "code",
      "source": [
        "# Extracting columns starting with 'proc' or 'raw'\n",
        "raw_watch_readings = df.filter(like='watch')\n",
        "\n",
        "# Describing the selected columns\n",
        "raw_watch_readings.describe()"
      ],
      "metadata": {
        "id": "POXwvVUC9OZY"
      },
      "execution_count": null,
      "outputs": []
    },
    {
      "cell_type": "code",
      "source": [
        "missing_values_raw_data = raw_data_readings.isnull().sum()\n",
        "missing_values_raw_watch = raw_watch_readings.isnull().sum()\n",
        "print(missing_values_raw_data)\n",
        "print(missing_values_raw_watch)"
      ],
      "metadata": {
        "id": "4uLrZ4U4_BUQ"
      },
      "execution_count": null,
      "outputs": []
    },
    {
      "cell_type": "code",
      "source": [
        "# Calculate the overall average of missing values for each DataFrame\n",
        "overall_average_missing_raw_data = raw_data_readings.isnull().mean().mean()\n",
        "overall_average_missing_raw_watch = raw_watch_readings.isnull().mean().mean()\n",
        "\n",
        "# Print the overall average missing values for each DataFrame\n",
        "print(\"Overall Average Missing Values in raw_data_readings:\", overall_average_missing_raw_data)\n",
        "print(\"Overall Average Missing Values in raw_watch_readings:\", overall_average_missing_raw_watch)\n",
        "\n",
        "# Plotting the overall average missing values for each DataFrame\n",
        "plt.figure(figsize=(10, 6))\n",
        "\n",
        "# Plot for raw_data_readings\n",
        "plt.bar(\"raw_data_readings\", overall_average_missing_raw_data, color=\"blue\", label=\"raw_data_readings\")\n",
        "\n",
        "# Plot for raw_watch_readings\n",
        "plt.bar(\"raw_watch_readings\", overall_average_missing_raw_watch, color=\"orange\", label=\"raw_watch_readings\")\n",
        "\n",
        "plt.title('Overall Average Missing Values')\n",
        "plt.ylabel('Average Missing Values')\n",
        "plt.legend()\n",
        "plt.show()"
      ],
      "metadata": {
        "id": "cvUZ_wl3_k8o"
      },
      "execution_count": null,
      "outputs": []
    },
    {
      "cell_type": "code",
      "source": [
        "watch_columns = df.filter(like=\"watch\")\n",
        "print(watch_columns.sum())\n",
        "df = df.drop(columns=watch_columns)\n",
        "df.shape"
      ],
      "metadata": {
        "id": "WzRIJFEP-Sh7"
      },
      "execution_count": null,
      "outputs": []
    },
    {
      "cell_type": "code",
      "source": [
        "# Extracting only the 'label' columns\n",
        "label_columns = df.filter(like='label:')\n",
        "\n",
        "\n",
        "# Counting the occurrences of value 1 in each 'label' column\n",
        "label_counts = label_columns.sum()\n",
        "\n",
        "# Plotting the bar graph\n",
        "plt.figure(figsize=(12, 6))\n",
        "label_counts.plot(kind='bar', color='skyblue')\n",
        "plt.title('Frequency of Each Label with Value 1')\n",
        "plt.xlabel('Labels')\n",
        "plt.ylabel('Frequency')\n",
        "plt.xticks(rotation=45, ha='right')\n",
        "plt.show()"
      ],
      "metadata": {
        "id": "n7iiB_1F5ir8"
      },
      "execution_count": null,
      "outputs": []
    },
    {
      "cell_type": "markdown",
      "source": [
        "*PREPROCESSING*"
      ],
      "metadata": {
        "id": "TWwrWahuYIRq"
      }
    },
    {
      "cell_type": "markdown",
      "source": [
        "Delete incomplete columns\n"
      ],
      "metadata": {
        "id": "jh5RPbwncnQI"
      }
    },
    {
      "cell_type": "code",
      "source": [
        "count = 0\n",
        "j = 0\n",
        "for i in df.columns:\n",
        "    if j > 225:\n",
        "      break\n",
        "    # Count the occurrences of 'na' in each column\n",
        "    count = (df[i] == 'nan').sum()\n",
        "    j = j+1\n",
        "    # Check if the total count of 'na' values and NaN values exceeds a threshold\n",
        "    if df[i].isnull().sum() + count > 377346*0.6 :\n",
        "        # Delete the column if the condition is met\n",
        "        print(i)\n",
        "        print(df[i].isnull().sum() + count)\n",
        "        del df[i]"
      ],
      "metadata": {
        "id": "lbzbSwu4cqhD"
      },
      "execution_count": null,
      "outputs": []
    },
    {
      "cell_type": "code",
      "source": [
        "df.shape"
      ],
      "metadata": {
        "id": "Oft04j4uDVWu"
      },
      "execution_count": null,
      "outputs": []
    },
    {
      "cell_type": "markdown",
      "source": [
        "Delete irrelevant columns for the analysis"
      ],
      "metadata": {
        "id": "GpgjocI6glum"
      }
    },
    {
      "cell_type": "code",
      "source": [
        "del df['timestamp']\n",
        "df.shape"
      ],
      "metadata": {
        "id": "TBqewtpQg1ej"
      },
      "execution_count": null,
      "outputs": []
    },
    {
      "cell_type": "markdown",
      "source": [
        "Delete known biased columns that might wrong the prediction"
      ],
      "metadata": {
        "id": "LiwwOGHnBBHc"
      }
    },
    {
      "cell_type": "code",
      "source": [
        "# Select columns starting with 'location' and 'label'\n",
        "location_columns = df.filter(regex='^location')\n",
        "label_columns = df.filter(regex='^label')\n",
        "\n",
        "# Concatenate the selected columns\n",
        "selected_columns = pd.concat([location_columns, label_columns], axis=1)\n",
        "\n",
        "# Calculate the correlation matrix\n",
        "correlation_matrix = selected_columns.corr()\n",
        "\n",
        "# Print the correlation matrix\n",
        "print(\"Correlation Matrix:\")\n",
        "print(correlation_matrix)\n",
        "\n",
        "# If you want to visualize the correlation matrix, you can use a heatmap\n",
        "import seaborn as sns\n",
        "import matplotlib.pyplot as plt\n",
        "\n",
        "plt.figure(figsize=(12, 8))\n",
        "sns.heatmap(correlation_matrix, annot=True, cmap='coolwarm', fmt=\".2f\")\n",
        "plt.title('Correlation Heatmap between Location and Label Columns')\n",
        "plt.show()"
      ],
      "metadata": {
        "id": "EJT7-gBnBI08"
      },
      "execution_count": null,
      "outputs": []
    },
    {
      "cell_type": "code",
      "source": [
        "#df = df.drop(columns=location_columns)\n",
        "df.shape"
      ],
      "metadata": {
        "id": "_JHoOPnEDaTg"
      },
      "execution_count": null,
      "outputs": []
    },
    {
      "cell_type": "markdown",
      "source": [
        "Check if there is correlation between column and label  to predict"
      ],
      "metadata": {
        "id": "pD1uJo2Bj7e-"
      }
    },
    {
      "cell_type": "code",
      "source": [
        "df.columns"
      ],
      "metadata": {
        "id": "7TYQF0y18z1L"
      },
      "execution_count": null,
      "outputs": []
    },
    {
      "cell_type": "code",
      "source": [
        "# Select columns that start with \"raw\", \"proc\", or \"audio\"\n",
        "selected_columns = [col for col in df.columns if col.startswith((\"raw\", \"proc\", \"audio\"))]\n",
        "\n",
        "# Extract the selected columns and create a new DataFrame\n",
        "df_selected = df[selected_columns]\n",
        "\n",
        "# Standardize the selected columns\n",
        "scaler = StandardScaler()\n",
        "df_selected_standardized = pd.DataFrame(scaler.fit_transform(df_selected), columns=selected_columns)\n",
        "\n",
        "# Replace the original columns with the standardized ones in the original DataFrame\n",
        "df[selected_columns] = df_selected_standardized\n"
      ],
      "metadata": {
        "id": "e2gvs0uTAepq"
      },
      "execution_count": null,
      "outputs": []
    },
    {
      "cell_type": "markdown",
      "source": [
        "BUILD MODEL"
      ],
      "metadata": {
        "id": "USN91dwrkK3S"
      }
    },
    {
      "cell_type": "code",
      "source": [
        "y = df.filter(regex='^label:')\n",
        "x = df.drop(columns= y)\n",
        "\n",
        "#Replace missing by 0\n",
        "y.fillna(0, inplace=True)\n",
        "x.fillna(0, inplace=True)\n",
        "\n",
        "\n",
        "X_encoded = pd.get_dummies(x)\n",
        "y_encoded = pd.get_dummies(y)\n",
        "\n",
        "X_train, X_test, y_train, y_test = train_test_split(X_encoded.values, y_encoded.values, test_size=0.2, random_state=42)"
      ],
      "metadata": {
        "id": "hoA_pLc4_e89"
      },
      "execution_count": null,
      "outputs": []
    },
    {
      "cell_type": "code",
      "source": [
        "missing_columns = df.columns[df.isnull().any()]\n",
        "missing_values = df[missing_columns].isnull().sum()\n",
        "\n",
        "print(\"Columns with Missing Values:\")\n",
        "print(missing_values)"
      ],
      "metadata": {
        "id": "KrGo3L1qIKcy"
      },
      "execution_count": null,
      "outputs": []
    },
    {
      "cell_type": "code",
      "source": [
        "print(X_train)"
      ],
      "metadata": {
        "id": "asne0V5mCJcf"
      },
      "execution_count": null,
      "outputs": []
    },
    {
      "cell_type": "code",
      "source": [
        "# Define the classifier (Random Forest in this case)\n",
        "classifier = RandomForestClassifier(n_estimators=100, random_state=42)\n",
        "\n",
        "# Create a MultiOutputClassifier\n",
        "multi_output_classifier = MultiOutputClassifier(classifier, n_jobs=-1)\n",
        "\n",
        "# Fit the model\n",
        "multi_output_classifier.fit(X_train, y_train)\n",
        "\n"
      ],
      "metadata": {
        "id": "DUl7MbfOEb-e"
      },
      "execution_count": null,
      "outputs": []
    },
    {
      "cell_type": "markdown",
      "source": [
        "CHECK RESULTS\n"
      ],
      "metadata": {
        "id": "ITOih7kBkNL2"
      }
    },
    {
      "cell_type": "code",
      "source": [
        "# Make predictions\n",
        "y_pred = multi_output_classifier.predict(X_test)\n",
        "\n",
        "# Evaluate the model\n",
        "accuracy = accuracy_score(y_test, y_pred)\n",
        "print(f\"Accuracy: {accuracy:.2f}\")\n",
        "\n",
        "# Print classification report\n",
        "print(\"Classification Report:\")\n",
        "print(classification_report(y_test, y_pred))"
      ],
      "metadata": {
        "id": "p69BYsgSkQQM"
      },
      "execution_count": null,
      "outputs": []
    }
  ]
}