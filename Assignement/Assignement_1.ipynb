{
  "nbformat": 4,
  "nbformat_minor": 0,
  "metadata": {
    "colab": {
      "provenance": [],
      "gpuType": "T4",
      "mount_file_id": "https://github.com/Waranika/DCU-EE514-DA-ML/blob/main/Assignement/Assignement_1.ipynb",
      "authorship_tag": "ABX9TyOyRL+5zPja4soPlazBrZ5E",
      "include_colab_link": true
    },
    "kernelspec": {
      "name": "python3",
      "display_name": "Python 3"
    },
    "language_info": {
      "name": "python"
    },
    "accelerator": "GPU"
  },
  "cells": [
    {
      "cell_type": "markdown",
      "metadata": {
        "id": "view-in-github",
        "colab_type": "text"
      },
      "source": [
        "<a href=\"https://colab.research.google.com/github/Waranika/DCU-EE514-DA-ML/blob/main/Assignement/Assignement_1.ipynb\" target=\"_parent\"><img src=\"https://colab.research.google.com/assets/colab-badge.svg\" alt=\"Open In Colab\"/></a>"
      ]
    },
    {
      "cell_type": "code",
      "execution_count": null,
      "metadata": {
        "id": "AI0E1VS1UUJg"
      },
      "outputs": [],
      "source": [
        "import pandas as pd\n",
        "import gzip\n",
        "import matplotlib.pyplot as plt\n",
        "import seaborn as sns\n",
        "import os\n",
        "from sklearn.preprocessing import StandardScaler\n",
        "from sklearn.model_selection import train_test_split\n",
        "from cuml.ensemble import RandomForestClassifier\n",
        "from sklearn.multioutput import MultiOutputClassifier\n",
        "from sklearn.metrics import accuracy_score, classification_report"
      ]
    },
    {
      "cell_type": "code",
      "source": [
        "path = \"/content/drive/MyDrive/The ExtraSensory Dataset/ExtraSensory.per_uuid_features_labels\""
      ],
      "metadata": {
        "id": "pN2IasR4VRSs"
      },
      "execution_count": null,
      "outputs": []
    },
    {
      "cell_type": "code",
      "source": [
        "files = [f for f in os.listdir(path) if f.endswith('.gz')]\n",
        "print(files)"
      ],
      "metadata": {
        "id": "o6S0qeGCVoKV"
      },
      "execution_count": null,
      "outputs": []
    },
    {
      "cell_type": "code",
      "source": [
        "df = pd.DataFrame()\n",
        "# Loop through each .gz file, unzip, and append to the DataFrame\n",
        "for gz_file in files:\n",
        "    with gzip.open(os.path.join(path, gz_file), 'rt') as f:\n",
        "        # Assuming the CSV file inside the .gz is comma-separated, adjust delimiter if needed\n",
        "        data = pd.read_csv(f, delimiter=',')\n",
        "        df = pd.concat([df, data], ignore_index=True)"
      ],
      "metadata": {
        "id": "kRBb6AWDVuZ1"
      },
      "execution_count": null,
      "outputs": []
    },
    {
      "cell_type": "code",
      "source": [
        "print(df)"
      ],
      "metadata": {
        "id": "5ZwpKRBNXpMx"
      },
      "execution_count": null,
      "outputs": []
    },
    {
      "cell_type": "markdown",
      "source": [
        "*DATA REPRESENTATION*"
      ],
      "metadata": {
        "id": "kiuJDgnZ5Zqy"
      }
    },
    {
      "cell_type": "code",
      "source": [
        "df.describe()"
      ],
      "metadata": {
        "id": "DiKDuL4g3Fv9"
      },
      "execution_count": null,
      "outputs": []
    },
    {
      "cell_type": "code",
      "source": [
        "# Extracting columns starting with 'proc' or 'raw'\n",
        "raw_data_readings = df.filter(regex='^(proc|raw)')\n",
        "\n",
        "# Describing the selected columns\n",
        "raw_data_readings.describe()\n"
      ],
      "metadata": {
        "id": "Oma6aE_r85AF"
      },
      "execution_count": null,
      "outputs": []
    },
    {
      "cell_type": "code",
      "source": [
        "# Extracting columns starting with 'proc' or 'raw'\n",
        "raw_watch_readings = df.filter(like='watch')\n",
        "\n",
        "# Describing the selected columns\n",
        "raw_watch_readings.describe()"
      ],
      "metadata": {
        "id": "POXwvVUC9OZY"
      },
      "execution_count": null,
      "outputs": []
    },
    {
      "cell_type": "code",
      "source": [
        "missing_values_raw_data = raw_data_readings.isnull().sum()\n",
        "missing_values_raw_watch = raw_watch_readings.isnull().sum()\n",
        "print(missing_values_raw_data)\n",
        "print(missing_values_raw_watch)"
      ],
      "metadata": {
        "id": "4uLrZ4U4_BUQ"
      },
      "execution_count": null,
      "outputs": []
    },
    {
      "cell_type": "code",
      "source": [
        "# Calculate the overall average of missing values for each DataFrame\n",
        "overall_average_missing_raw_data = raw_data_readings.isnull().mean().mean()\n",
        "overall_average_missing_raw_watch = raw_watch_readings.isnull().mean().mean()\n",
        "\n",
        "# Print the overall average missing values for each DataFrame\n",
        "print(\"Overall Average Missing Values in raw_data_readings:\", overall_average_missing_raw_data)\n",
        "print(\"Overall Average Missing Values in raw_watch_readings:\", overall_average_missing_raw_watch)\n",
        "\n",
        "# Plotting the overall average missing values for each DataFrame\n",
        "plt.figure(figsize=(10, 6))\n",
        "\n",
        "# Plot for raw_data_readings\n",
        "plt.bar(\"raw_data_readings\", overall_average_missing_raw_data, color=\"blue\", label=\"raw_data_readings\")\n",
        "\n",
        "# Plot for raw_watch_readings\n",
        "plt.bar(\"raw_watch_readings\", overall_average_missing_raw_watch, color=\"orange\", label=\"raw_watch_readings\")\n",
        "\n",
        "plt.title('Overall Average Missing Values')\n",
        "plt.ylabel('Average Missing Values')\n",
        "plt.legend()\n",
        "plt.show()"
      ],
      "metadata": {
        "id": "cvUZ_wl3_k8o"
      },
      "execution_count": null,
      "outputs": []
    },
    {
      "cell_type": "code",
      "source": [
        "watch_columns = df.filter(like=\"watch\")\n",
        "print(watch_columns.sum())\n",
        "df = df.drop(columns=watch_columns)\n",
        "df.shape"
      ],
      "metadata": {
        "id": "WzRIJFEP-Sh7"
      },
      "execution_count": null,
      "outputs": []
    },
    {
      "cell_type": "code",
      "source": [
        "# Extracting only the 'label' columns\n",
        "label_columns = df.filter(like='label:')\n",
        "\n",
        "\n",
        "# Counting the occurrences of value 1 in each 'label' column\n",
        "label_counts = label_columns.sum()\n",
        "\n",
        "# Plotting the bar graph\n",
        "plt.figure(figsize=(12, 6))\n",
        "label_counts.plot(kind='bar', color='skyblue')\n",
        "plt.title('Frequency of Each Label with Value 1')\n",
        "plt.xlabel('Labels')\n",
        "plt.ylabel('Frequency')\n",
        "plt.xticks(rotation=45, ha='right')\n",
        "plt.show()"
      ],
      "metadata": {
        "id": "n7iiB_1F5ir8"
      },
      "execution_count": null,
      "outputs": []
    },
    {
      "cell_type": "markdown",
      "source": [
        "*PREPROCESSING*"
      ],
      "metadata": {
        "id": "TWwrWahuYIRq"
      }
    },
    {
      "cell_type": "markdown",
      "source": [
        "Delete incomplete columns\n"
      ],
      "metadata": {
        "id": "jh5RPbwncnQI"
      }
    },
    {
      "cell_type": "code",
      "source": [
        "count = 0\n",
        "j = 0\n",
        "for i in df.columns:\n",
        "    if j > 225:\n",
        "      break\n",
        "    # Count the occurrences of 'na' in each column\n",
        "    count = (df[i] == 'nan').sum()\n",
        "    j = j+1\n",
        "    # Check if the total count of 'na' values and NaN values exceeds a threshold\n",
        "    if df[i].isnull().sum() + count > 377346*0.6 :\n",
        "        # Delete the column if the condition is met\n",
        "        print(i)\n",
        "        print(df[i].isnull().sum() + count)\n",
        "        del df[i]"
      ],
      "metadata": {
        "id": "lbzbSwu4cqhD"
      },
      "execution_count": null,
      "outputs": []
    },
    {
      "cell_type": "code",
      "source": [
        "df.shape"
      ],
      "metadata": {
        "id": "Oft04j4uDVWu"
      },
      "execution_count": null,
      "outputs": []
    },
    {
      "cell_type": "markdown",
      "source": [
        "Delete irrelevant columns for the analysis"
      ],
      "metadata": {
        "id": "GpgjocI6glum"
      }
    },
    {
      "cell_type": "code",
      "source": [
        "del df['timestamp']\n",
        "df.shape"
      ],
      "metadata": {
        "id": "TBqewtpQg1ej"
      },
      "execution_count": null,
      "outputs": []
    },
    {
      "cell_type": "markdown",
      "source": [
        "Delete known biased columns that might wrong the prediction"
      ],
      "metadata": {
        "id": "LiwwOGHnBBHc"
      }
    },
    {
      "cell_type": "code",
      "source": [
        "# Select columns starting with 'location' and 'label'\n",
        "location_columns = df.filter(regex='^location')\n",
        "label_columns = df.filter(regex='^label')\n",
        "\n",
        "# Concatenate the selected columns\n",
        "selected_columns = pd.concat([location_columns, label_columns], axis=1)\n",
        "\n",
        "# Calculate the correlation matrix\n",
        "correlation_matrix = selected_columns.corr()\n",
        "\n",
        "# Print the correlation matrix\n",
        "print(\"Correlation Matrix:\")\n",
        "print(correlation_matrix)\n",
        "\n",
        "# If you want to visualize the correlation matrix, you can use a heatmap\n",
        "import seaborn as sns\n",
        "import matplotlib.pyplot as plt\n",
        "\n",
        "plt.figure(figsize=(12, 8))\n",
        "sns.heatmap(correlation_matrix, annot=True, cmap='coolwarm', fmt=\".2f\")\n",
        "plt.title('Correlation Heatmap between Location and Label Columns')\n",
        "plt.show()"
      ],
      "metadata": {
        "id": "EJT7-gBnBI08"
      },
      "execution_count": null,
      "outputs": []
    },
    {
      "cell_type": "code",
      "source": [
        "df = df.drop(columns=location_columns)\n",
        "df.shape"
      ],
      "metadata": {
        "id": "_JHoOPnEDaTg"
      },
      "execution_count": null,
      "outputs": []
    },
    {
      "cell_type": "markdown",
      "source": [
        "Check if there is correlation between column and label  to predict"
      ],
      "metadata": {
        "id": "pD1uJo2Bj7e-"
      }
    },
    {
      "cell_type": "code",
      "source": [
        "df.columns"
      ],
      "metadata": {
        "id": "7TYQF0y18z1L"
      },
      "execution_count": null,
      "outputs": []
    },
    {
      "cell_type": "code",
      "source": [
        "# Select columns that start with \"raw\", \"proc\", or \"audio\"\n",
        "selected_columns = [col for col in df.columns if col.startswith((\"raw\", \"proc\", \"audio\"))]\n",
        "\n",
        "# Extract the selected columns and create a new DataFrame\n",
        "df_selected = df[selected_columns]\n",
        "\n",
        "# Standardize the selected columns\n",
        "scaler = StandardScaler()\n",
        "df_selected_standardized = pd.DataFrame(scaler.fit_transform(df_selected), columns=selected_columns)\n",
        "\n",
        "# Replace the original columns with the standardized ones in the original DataFrame\n",
        "df[selected_columns] = df_selected_standardized\n"
      ],
      "metadata": {
        "id": "e2gvs0uTAepq"
      },
      "execution_count": null,
      "outputs": []
    },
    {
      "cell_type": "markdown",
      "source": [
        "BUILD MODEL"
      ],
      "metadata": {
        "id": "USN91dwrkK3S"
      }
    },
    {
      "cell_type": "code",
      "source": [
        "y = df.filter(regex='^label:')\n",
        "x = df.drop(columns= y)\n",
        "\n",
        "#Replace missing by 0\n",
        "y.fillna(0, inplace=True)\n",
        "x.fillna(0, inplace=True)\n",
        "\n",
        "\n",
        "X_encoded = pd.get_dummies(x)\n",
        "y_encoded = pd.get_dummies(y)\n",
        "\n",
        "X_train, X_test, y_train, y_test = train_test_split(X_encoded.values, y_encoded.values, test_size=0.2, random_state=42)"
      ],
      "metadata": {
        "id": "hoA_pLc4_e89"
      },
      "execution_count": null,
      "outputs": []
    },
    {
      "cell_type": "code",
      "source": [
        "missing_columns = df.columns[df.isnull().any()]\n",
        "missing_values = df[missing_columns].isnull().sum()\n",
        "\n",
        "print(\"Columns with Missing Values:\")\n",
        "print(missing_values)"
      ],
      "metadata": {
        "id": "KrGo3L1qIKcy"
      },
      "execution_count": null,
      "outputs": []
    },
    {
      "cell_type": "code",
      "source": [
        "print(X_train)"
      ],
      "metadata": {
        "id": "asne0V5mCJcf"
      },
      "execution_count": null,
      "outputs": []
    },
    {
      "cell_type": "code",
      "source": [
        "# Define the classifier (Random Forest in this case)\n",
        "classifier = RandomForestClassifier(n_estimators=100, random_state=42)\n",
        "\n",
        "# Create a MultiOutputClassifier\n",
        "multi_output_classifier = MultiOutputClassifier(classifier, n_jobs=-1)\n",
        "\n",
        "# Fit the model\n",
        "multi_output_classifier.fit(X_train, y_train)\n",
        "\n"
      ],
      "metadata": {
        "id": "DUl7MbfOEb-e"
      },
      "execution_count": null,
      "outputs": []
    },
    {
      "cell_type": "markdown",
      "source": [
        "CHECK RESULTS\n"
      ],
      "metadata": {
        "id": "ITOih7kBkNL2"
      }
    },
    {
      "cell_type": "code",
      "source": [
        "# Make predictions\n",
        "y_pred = multi_output_classifier.predict(X_test)\n",
        "\n",
        "# Evaluate the model\n",
        "accuracy = accuracy_score(y_test, y_pred)\n",
        "print(f\"Accuracy: {accuracy:.2f}\")\n",
        "\n",
        "# Print classification report\n",
        "print(\"Classification Report:\")\n",
        "print(classification_report(y_test, y_pred))"
      ],
      "metadata": {
        "id": "p69BYsgSkQQM",
        "colab": {
          "base_uri": "https://localhost:8080/"
        },
        "outputId": "2af82ca2-aaac-47b0-91a2-ada7dddfc196"
      },
      "execution_count": null,
      "outputs": [
        {
          "output_type": "stream",
          "name": "stdout",
          "text": [
            "Accuracy: 0.68\n",
            "Classification Report:\n",
            "              precision    recall  f1-score   support\n",
            "\n",
            "           0       0.99      0.92      0.95     20925\n",
            "           1       0.90      0.91      0.90     27081\n",
            "           2       0.84      0.44      0.58      4425\n",
            "           3       0.99      0.94      0.97     16670\n",
            "           4       0.99      0.54      0.70      1048\n",
            "           5       0.98      0.82      0.90      6714\n",
            "           6       0.96      0.94      0.95     37008\n",
            "           7       0.93      0.41      0.57      2430\n",
            "           8       0.96      0.41      0.57      1169\n",
            "           9       1.00      0.11      0.19       362\n",
            "          10       0.96      0.50      0.66      1612\n",
            "          11       0.95      0.92      0.94     30696\n",
            "          12       0.99      0.37      0.54       422\n",
            "          13       0.98      0.58      0.73      1614\n",
            "          14       1.00      0.28      0.44       870\n",
            "          15       0.99      0.38      0.55       408\n",
            "          16       0.97      0.36      0.52       760\n",
            "          17       0.98      0.52      0.68      2671\n",
            "          18       0.97      0.63      0.76      3844\n",
            "          19       0.95      0.56      0.71      7316\n",
            "          20       0.98      0.75      0.85      7562\n",
            "          21       0.98      0.33      0.50      3359\n",
            "          22       1.00      0.18      0.31       522\n",
            "          23       0.99      0.24      0.38       640\n",
            "          24       1.00      0.19      0.31       472\n",
            "          25       0.96      0.41      0.58      7739\n",
            "          26       0.97      0.76      0.85      8444\n",
            "          27       0.97      0.88      0.92     22869\n",
            "          28       0.97      0.65      0.78      4923\n",
            "\n",
            "   micro avg       0.96      0.81      0.88    224575\n",
            "   macro avg       0.97      0.55      0.66    224575\n",
            "weighted avg       0.96      0.81      0.87    224575\n",
            " samples avg       0.76      0.69      0.71    224575\n",
            "\n"
          ]
        },
        {
          "output_type": "stream",
          "name": "stderr",
          "text": [
            "/usr/local/lib/python3.10/dist-packages/sklearn/metrics/_classification.py:1344: UndefinedMetricWarning: Precision and F-score are ill-defined and being set to 0.0 in samples with no predicted labels. Use `zero_division` parameter to control this behavior.\n",
            "  _warn_prf(average, modifier, msg_start, len(result))\n",
            "/usr/local/lib/python3.10/dist-packages/sklearn/metrics/_classification.py:1344: UndefinedMetricWarning: Recall and F-score are ill-defined and being set to 0.0 in samples with no true labels. Use `zero_division` parameter to control this behavior.\n",
            "  _warn_prf(average, modifier, msg_start, len(result))\n"
          ]
        }
      ]
    }
  ]
}