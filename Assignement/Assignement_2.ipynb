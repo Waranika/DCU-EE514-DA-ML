{
  "nbformat": 4,
  "nbformat_minor": 0,
  "metadata": {
    "colab": {
      "provenance": [],
      "gpuType": "T4",
      "mount_file_id": "https://github.com/Waranika/DCU-EE514-DA-ML/blob/main/Assignement/Assignement_2.ipynb",
      "authorship_tag": "ABX9TyPYPFMadSpW1EYa3WMUa2uo",
      "include_colab_link": true
    },
    "kernelspec": {
      "name": "python3",
      "display_name": "Python 3"
    },
    "language_info": {
      "name": "python"
    },
    "accelerator": "GPU"
  },
  "cells": [
    {
      "cell_type": "markdown",
      "metadata": {
        "id": "view-in-github",
        "colab_type": "text"
      },
      "source": [
        "<a href=\"https://colab.research.google.com/github/Waranika/DCU-EE514-DA-ML/blob/main/Assignement/Assignement_2.ipynb\" target=\"_parent\"><img src=\"https://colab.research.google.com/assets/colab-badge.svg\" alt=\"Open In Colab\"/></a>"
      ]
    },
    {
      "cell_type": "code",
      "source": [
        "import pandas as pd\n",
        "import numpy as np\n",
        "from sklearn.model_selection import train_test_split\n",
        "from tensorflow.keras.preprocessing.image import load_img, img_to_array\n",
        "from tensorflow.keras.utils import to_categorical\n",
        "from tensorflow.keras.models import Sequential\n",
        "from tensorflow.keras.layers import Conv2D, MaxPooling2D, Flatten, Dense\n",
        "from tensorflow.keras.applications.vgg16 import preprocess_input\n",
        "from tensorflow.keras.applications.vgg16 import VGG16\n",
        "from tensorflow.keras.preprocessing import image\n",
        "from tensorflow.keras.applications.vgg16 import preprocess_input\n",
        "from tensorflow.keras.models import Model\n",
        "from tensorflow.keras.layers import Dense, GlobalAveragePooling2D\n",
        "import tensorflow\n",
        "import keras"
      ],
      "metadata": {
        "id": "3XLuNOoDFNoZ"
      },
      "execution_count": 36,
      "outputs": []
    },
    {
      "cell_type": "code",
      "execution_count": 37,
      "metadata": {
        "id": "eUKPz5DKB2sB"
      },
      "outputs": [],
      "source": [
        "dataset = \"/content/drive/MyDrive/Mars Surface Images Dataset/Mars Surface Dataset/\""
      ]
    },
    {
      "cell_type": "code",
      "source": [
        "label =\"apxs cal target\", \"chemcam cal target\", \"chemin inlet open\", \"drill\",\"drill holes\", \"drt front\",\"drt side\",\"ground\",\"horizon\",\"inlet\",\"mahli\",\"mahli cal target\", \"mastcam\",\"mastcam cal target\", \"observation tray\",\"portion box\",\"portion tube\",\"portion tube opening\",\"rems uv sensor\",\"rover rear deck\",\"scoop\",\"sun\",\"turret\",\"wheel\""
      ],
      "metadata": {
        "id": "eycw4K_jKY9d"
      },
      "execution_count": 38,
      "outputs": []
    },
    {
      "cell_type": "code",
      "source": [
        "train = pd.read_csv(\"/content/drive/MyDrive/Mars Surface Images Dataset/Mars Surface Dataset/train-calibrated-shuffled.txt\", sep=\"\\s+\", names = [\"image\", \"labels\"] )\n",
        "print(train)"
      ],
      "metadata": {
        "colab": {
          "base_uri": "https://localhost:8080/"
        },
        "id": "uq3ksuoaMvba",
        "outputId": "1b7c9fa8-9062-41c0-a1f5-0cbe1ae890ab"
      },
      "execution_count": 39,
      "outputs": [
        {
          "output_type": "stream",
          "name": "stdout",
          "text": [
            "                                              image  labels\n",
            "0     calibrated/0077ML0005780000102730I01_DRCL.JPG      15\n",
            "1     calibrated/0072MR0005610170103642E01_DRCL.JPG       8\n",
            "2     calibrated/0069MR0004130000103477I01_DRCL.JPG      21\n",
            "3     calibrated/0154ML0008510010104492E01_DRCL.JPG       8\n",
            "4     calibrated/0019MR0000530000100138C00_DRCL.JPG       8\n",
            "...                                             ...     ...\n",
            "3741  calibrated/0163ML0008760050104602D01_DRCL.JPG      10\n",
            "3742  calibrated/0072MR0005620000103655E01_DRCL.JPG       8\n",
            "3743  calibrated/0066ML0003650000102517M00_DRCL.JPG      21\n",
            "3744  calibrated/0157ML0008550020104531I01_DRCL.JPG       8\n",
            "3745  calibrated/0057ML0002640010102297E01_DRCL.JPG       8\n",
            "\n",
            "[3746 rows x 2 columns]\n"
          ]
        }
      ]
    },
    {
      "cell_type": "code",
      "source": [
        "test = pd.read_csv(\"/content/drive/MyDrive/Mars Surface Images Dataset/Mars Surface Dataset/test-calibrated-shuffled.txt\", sep=\"\\s+\", names = [\"image\", \"labels\"] )\n",
        "print(test)"
      ],
      "metadata": {
        "colab": {
          "base_uri": "https://localhost:8080/"
        },
        "id": "WgU80NonOPnc",
        "outputId": "dc5aaaed-d2d7-44ee-e527-dfc6d18dc473"
      },
      "execution_count": 40,
      "outputs": [
        {
          "output_type": "stream",
          "name": "stdout",
          "text": [
            "                                              image  labels\n",
            "0     calibrated/0830MR0036510000500684E01_DRCL.JPG       7\n",
            "1     calibrated/0640MH0002640000203781I01_DRCL.JPG      24\n",
            "2     calibrated/0647MH0003250050203806E01_DRCL.JPG       9\n",
            "3     calibrated/0844MR0037590000501001I01_DRCL.JPG       7\n",
            "4     calibrated/0618MR0026460020401253I01_DRCL.JPG      11\n",
            "...                                             ...     ...\n",
            "1300  calibrated/0571MH0002590000201894I01_DRCL.JPG      24\n",
            "1301  calibrated/0840ML0037090000401385I01_DRCL.JPG      17\n",
            "1302  calibrated/0868MH0003900000302200I01_DRCL.JPG      10\n",
            "1303  calibrated/0568MH0002630000201882E01_DRCL.JPG      24\n",
            "1304  calibrated/0613MH0003900000203392I01_DRCL.JPG      10\n",
            "\n",
            "[1305 rows x 2 columns]\n"
          ]
        }
      ]
    },
    {
      "cell_type": "code",
      "source": [
        "val = pd.read_csv(\"/content/drive/MyDrive/Mars Surface Images Dataset/Mars Surface Dataset/val-calibrated-shuffled.txt\", sep=\"\\s+\", names = [\"image\", \"labels\"] )\n",
        "print(val)"
      ],
      "metadata": {
        "colab": {
          "base_uri": "https://localhost:8080/"
        },
        "id": "OU06tHfGPKS2",
        "outputId": "98fbb0a1-949f-41e7-c39c-13490c555335"
      },
      "execution_count": 41,
      "outputs": [
        {
          "output_type": "stream",
          "name": "stdout",
          "text": [
            "                                              image  labels\n",
            "0     calibrated/0292MH0002810020103587C00_DRCL.JPG       5\n",
            "1     calibrated/0270MH0002530050102760I01_DRCL.JPG       5\n",
            "2     calibrated/0549MH0002620000201566E01_DRCL.JPG      24\n",
            "3     calibrated/0229MR0009720000202913E01_DRCL.JPG       0\n",
            "4     calibrated/0292MH0002810020103613C00_DRCL.JPG       5\n",
            "...                                             ...     ...\n",
            "1635  calibrated/0486MR0011580000302944E01_DRCL.JPG       0\n",
            "1636  calibrated/0506MH0002240020200655I01_DRCL.JPG       8\n",
            "1637  calibrated/0229MR0010840000202939I01_DRCL.JPG      16\n",
            "1638  calibrated/0229MR0009760000202918I01_DRCL.JPG      18\n",
            "1639  calibrated/0270MH0002530050102767E01_DRCL.JPG       5\n",
            "\n",
            "[1640 rows x 2 columns]\n"
          ]
        }
      ]
    },
    {
      "cell_type": "code",
      "source": [
        "# Load and preprocess images\n",
        "image_paths = train['image']\n",
        "base = \"/content/drive/MyDrive/Mars Surface Images Dataset/Mars Surface Dataset/train-calibrated-shuffled.txt\"\n",
        "\n",
        "x_train = np.empty(shape=(0,100,100,3))\n",
        "limit = 1500\n",
        "\n",
        "id = 0\n",
        "\n",
        "for path in image_paths:\n",
        "    id = id +1\n",
        "    if id >= limit:\n",
        "      break\n",
        "\n",
        "    img = load_img(dataset+path, target_size=(100,100))  # Adjust target_size as needed\n",
        "    img_array = img_to_array(img)\n",
        "    img_array = np.expand_dims(img_array, axis=0)\n",
        "    img_array = preprocess_input(img_array)\n",
        "    x_train = np.vstack([x_train, img_array])\n",
        "\n",
        "\n",
        "y_train = train['labels']\n",
        "y_train = y_train[:1499]\n"
      ],
      "metadata": {
        "id": "JXMbb0ekPX_d"
      },
      "execution_count": 42,
      "outputs": []
    },
    {
      "cell_type": "code",
      "source": [
        "print(len(x_train))\n",
        "print(y_train)"
      ],
      "metadata": {
        "colab": {
          "base_uri": "https://localhost:8080/"
        },
        "id": "H61K_tlqgwtV",
        "outputId": "fcabf290-09f0-4a7b-a3b3-98dab8a0216f"
      },
      "execution_count": 43,
      "outputs": [
        {
          "output_type": "stream",
          "name": "stdout",
          "text": [
            "1499\n",
            "0       15\n",
            "1        8\n",
            "2       21\n",
            "3        8\n",
            "4        8\n",
            "        ..\n",
            "1494     0\n",
            "1495     8\n",
            "1496     8\n",
            "1497     8\n",
            "1498     8\n",
            "Name: labels, Length: 1499, dtype: int64\n"
          ]
        }
      ]
    },
    {
      "cell_type": "code",
      "source": [
        "# Load and preprocess images\n",
        "image_paths = test['image']\n",
        "base = \"/content/drive/MyDrive/Mars Surface Images Dataset/Mars Surface Dataset/test-calibrated-shuffled.txt\"\n",
        "\n",
        "x_test = np.empty(shape=(0,100,100,3))\n",
        "limit = 300\n",
        "\n",
        "id = 0\n",
        "\n",
        "for path in image_paths:\n",
        "    id = id +1\n",
        "    if id >= limit:\n",
        "      break\n",
        "\n",
        "    img = load_img(dataset+path, target_size=(100,100))  # Adjust target_size as needed\n",
        "    img_array = img_to_array(img)\n",
        "    img_array = np.expand_dims(img_array, axis=0)\n",
        "    img_array = preprocess_input(img_array)\n",
        "    x_test = np.vstack([x_test, img_array])\n",
        "\n",
        "#figure label for test\n",
        "y_test = test['labels']\n",
        "y_test = y_test[:299]"
      ],
      "metadata": {
        "id": "GtN_rCq0idTd"
      },
      "execution_count": 44,
      "outputs": []
    },
    {
      "cell_type": "code",
      "source": [
        "print(len(x_test))"
      ],
      "metadata": {
        "colab": {
          "base_uri": "https://localhost:8080/"
        },
        "id": "-EpNfyByNFeb",
        "outputId": "49435cc4-0ed6-4c78-e821-f3c397915b28"
      },
      "execution_count": 45,
      "outputs": [
        {
          "output_type": "stream",
          "name": "stdout",
          "text": [
            "299\n"
          ]
        }
      ]
    },
    {
      "cell_type": "code",
      "source": [
        "print(y_test)"
      ],
      "metadata": {
        "colab": {
          "base_uri": "https://localhost:8080/"
        },
        "id": "f8m8k8bdjTMI",
        "outputId": "c910fa57-afa5-4d60-9fa0-cc018337a450"
      },
      "execution_count": 46,
      "outputs": [
        {
          "output_type": "stream",
          "name": "stdout",
          "text": [
            "0       7\n",
            "1      24\n",
            "2       9\n",
            "3       7\n",
            "4      11\n",
            "       ..\n",
            "294     3\n",
            "295    24\n",
            "296     8\n",
            "297    24\n",
            "298    12\n",
            "Name: labels, Length: 299, dtype: int64\n"
          ]
        }
      ]
    },
    {
      "cell_type": "code",
      "source": [
        "# Load and preprocess images\n",
        "image_paths = val['image']\n",
        "base = \"/content/drive/MyDrive/Mars Surface Images Dataset/Mars Surface Dataset/val-calibrated-shuffled.txt\"\n",
        "\n",
        "x_val = np.empty(shape=(0,100,100,3))\n",
        "limit = 300\n",
        "\n",
        "id = 0\n",
        "\n",
        "for path in image_paths:\n",
        "    id = id +1\n",
        "    if id >= limit:\n",
        "      break\n",
        "\n",
        "    img = load_img(dataset+path, target_size=(100,100))  # Adjust target_size as needed\n",
        "    img_array = img_to_array(img)\n",
        "    img_array = np.expand_dims(img_array, axis=0)\n",
        "    img_array = preprocess_input(img_array)\n",
        "    x_val = np.vstack([x_val, img_array])\n",
        "\n",
        "\n",
        "y_val = val['labels']\n",
        "y_val = y_val[:299]"
      ],
      "metadata": {
        "id": "QftmTl3NNX9V"
      },
      "execution_count": 47,
      "outputs": []
    },
    {
      "cell_type": "code",
      "source": [
        "from keras.utils import to_categorical\n",
        "\n",
        "y_train_encoded = to_categorical(y_train, num_classes=25)\n",
        "y_test_encoded = to_categorical(y_test, num_classes=25)\n",
        "y_val_encoded = to_categorical(y_val, num_classes = 25)"
      ],
      "metadata": {
        "id": "AuZA7Ri6qzzD"
      },
      "execution_count": 48,
      "outputs": []
    },
    {
      "cell_type": "markdown",
      "source": [
        "VGG-16"
      ],
      "metadata": {
        "id": "YPeFY37AkHvm"
      }
    },
    {
      "cell_type": "code",
      "source": [
        "VGGmodel = VGG16(weights='imagenet', include_top=False)\n",
        "#features = VGGmodel.predict(xTrain)\n",
        "#print(features.shape)\n",
        "\n",
        "# we will add layers to this feature extraction part of VGG network\n",
        "m = VGGmodel.output\n",
        "# we start with a global average pooling\n",
        "m = GlobalAveragePooling2D()(m)\n",
        "# and add a fully-connected layer\n",
        "m = Dense(1024, activation='relu')(m)\n",
        "# finally, the softmax layer for predictions (we have nbClasses classes)\n",
        "predictions = Dense(25, activation='softmax')(m)\n",
        "print(len(label))\n",
        "# global network\n",
        "model = Model(inputs=VGGmodel.input, outputs=predictions)\n",
        "model.summary()"
      ],
      "metadata": {
        "colab": {
          "base_uri": "https://localhost:8080/"
        },
        "id": "kiEXAFqnkF5k",
        "outputId": "cea3f11a-efa1-4aec-cb64-8eee99da249e"
      },
      "execution_count": 49,
      "outputs": [
        {
          "output_type": "stream",
          "name": "stdout",
          "text": [
            "24\n",
            "Model: \"model_2\"\n",
            "_________________________________________________________________\n",
            " Layer (type)                Output Shape              Param #   \n",
            "=================================================================\n",
            " input_3 (InputLayer)        [(None, None, None, 3)]   0         \n",
            "                                                                 \n",
            " block1_conv1 (Conv2D)       (None, None, None, 64)    1792      \n",
            "                                                                 \n",
            " block1_conv2 (Conv2D)       (None, None, None, 64)    36928     \n",
            "                                                                 \n",
            " block1_pool (MaxPooling2D)  (None, None, None, 64)    0         \n",
            "                                                                 \n",
            " block2_conv1 (Conv2D)       (None, None, None, 128)   73856     \n",
            "                                                                 \n",
            " block2_conv2 (Conv2D)       (None, None, None, 128)   147584    \n",
            "                                                                 \n",
            " block2_pool (MaxPooling2D)  (None, None, None, 128)   0         \n",
            "                                                                 \n",
            " block3_conv1 (Conv2D)       (None, None, None, 256)   295168    \n",
            "                                                                 \n",
            " block3_conv2 (Conv2D)       (None, None, None, 256)   590080    \n",
            "                                                                 \n",
            " block3_conv3 (Conv2D)       (None, None, None, 256)   590080    \n",
            "                                                                 \n",
            " block3_pool (MaxPooling2D)  (None, None, None, 256)   0         \n",
            "                                                                 \n",
            " block4_conv1 (Conv2D)       (None, None, None, 512)   1180160   \n",
            "                                                                 \n",
            " block4_conv2 (Conv2D)       (None, None, None, 512)   2359808   \n",
            "                                                                 \n",
            " block4_conv3 (Conv2D)       (None, None, None, 512)   2359808   \n",
            "                                                                 \n",
            " block4_pool (MaxPooling2D)  (None, None, None, 512)   0         \n",
            "                                                                 \n",
            " block5_conv1 (Conv2D)       (None, None, None, 512)   2359808   \n",
            "                                                                 \n",
            " block5_conv2 (Conv2D)       (None, None, None, 512)   2359808   \n",
            "                                                                 \n",
            " block5_conv3 (Conv2D)       (None, None, None, 512)   2359808   \n",
            "                                                                 \n",
            " block5_pool (MaxPooling2D)  (None, None, None, 512)   0         \n",
            "                                                                 \n",
            " global_average_pooling2d_2  (None, 512)               0         \n",
            "  (GlobalAveragePooling2D)                                       \n",
            "                                                                 \n",
            " dense_4 (Dense)             (None, 1024)              525312    \n",
            "                                                                 \n",
            " dense_5 (Dense)             (None, 25)                25625     \n",
            "                                                                 \n",
            "=================================================================\n",
            "Total params: 15265625 (58.23 MB)\n",
            "Trainable params: 15265625 (58.23 MB)\n",
            "Non-trainable params: 0 (0.00 Byte)\n",
            "_________________________________________________________________\n"
          ]
        }
      ]
    },
    {
      "cell_type": "code",
      "source": [
        "# training\n",
        "ourCallback = tensorflow.keras.callbacks.EarlyStopping(monitor='val_accuracy', min_delta=0.0001, patience=20, verbose=0, mode='auto', baseline=None, restore_best_weights=False)\n",
        "\n",
        "# training part I: training only the classification part (the end)\n",
        "for layer in VGGmodel.layers:\n",
        "    layer.trainable = False\n",
        "model.compile(optimizer='rmsprop', loss='categorical_crossentropy', metrics=['accuracy'])\n",
        "\n",
        "model.fit(x_train, y_train_encoded, epochs=20, batch_size=32, validation_data=(x_val, y_val_encoded) , callbacks=[ourCallback],verbose=1)#to prenvent it from too long a run\n",
        "#add my own validation set\n",
        "#validation_data=(x_val, y_val_encoded)"
      ],
      "metadata": {
        "colab": {
          "base_uri": "https://localhost:8080/"
        },
        "id": "QAPxV5NWlPq2",
        "outputId": "a7a2e736-ffc2-43ac-e831-e190b9c5afeb"
      },
      "execution_count": 50,
      "outputs": [
        {
          "output_type": "stream",
          "name": "stdout",
          "text": [
            "Epoch 1/20\n",
            "47/47 [==============================] - 5s 75ms/step - loss: 1.2902 - accuracy: 0.8632 - val_loss: 2.4922 - val_accuracy: 0.6455\n",
            "Epoch 2/20\n",
            "47/47 [==============================] - 2s 49ms/step - loss: 0.2031 - accuracy: 0.9593 - val_loss: 3.5063 - val_accuracy: 0.6288\n",
            "Epoch 3/20\n",
            "47/47 [==============================] - 2s 49ms/step - loss: 0.1001 - accuracy: 0.9807 - val_loss: 3.2373 - val_accuracy: 0.6288\n",
            "Epoch 4/20\n",
            "47/47 [==============================] - 2s 42ms/step - loss: 0.0536 - accuracy: 0.9827 - val_loss: 2.2471 - val_accuracy: 0.6890\n",
            "Epoch 5/20\n",
            "47/47 [==============================] - 2s 49ms/step - loss: 0.0671 - accuracy: 0.9887 - val_loss: 3.5965 - val_accuracy: 0.6522\n",
            "Epoch 6/20\n",
            "47/47 [==============================] - 2s 49ms/step - loss: 0.0772 - accuracy: 0.9833 - val_loss: 3.1919 - val_accuracy: 0.6656\n",
            "Epoch 7/20\n",
            "47/47 [==============================] - 2s 51ms/step - loss: 0.0404 - accuracy: 0.9940 - val_loss: 3.8223 - val_accuracy: 0.4816\n",
            "Epoch 8/20\n",
            "47/47 [==============================] - 2s 51ms/step - loss: 0.0628 - accuracy: 0.9873 - val_loss: 3.1306 - val_accuracy: 0.6221\n",
            "Epoch 9/20\n",
            "47/47 [==============================] - 2s 42ms/step - loss: 0.0588 - accuracy: 0.9933 - val_loss: 2.0494 - val_accuracy: 0.7023\n",
            "Epoch 10/20\n",
            "47/47 [==============================] - 2s 43ms/step - loss: 0.0288 - accuracy: 0.9973 - val_loss: 2.7940 - val_accuracy: 0.6823\n",
            "Epoch 11/20\n",
            "47/47 [==============================] - 2s 43ms/step - loss: 0.0403 - accuracy: 0.9927 - val_loss: 2.2927 - val_accuracy: 0.6722\n",
            "Epoch 12/20\n",
            "47/47 [==============================] - 2s 43ms/step - loss: 0.0238 - accuracy: 0.9960 - val_loss: 0.7748 - val_accuracy: 0.8796\n",
            "Epoch 13/20\n",
            "47/47 [==============================] - 2s 44ms/step - loss: 0.0039 - accuracy: 0.9993 - val_loss: 0.7298 - val_accuracy: 0.9064\n",
            "Epoch 14/20\n",
            "47/47 [==============================] - 2s 51ms/step - loss: 0.0216 - accuracy: 0.9960 - val_loss: 0.6215 - val_accuracy: 0.9130\n",
            "Epoch 15/20\n",
            "47/47 [==============================] - 2s 45ms/step - loss: 0.0019 - accuracy: 0.9993 - val_loss: 0.7530 - val_accuracy: 0.8963\n",
            "Epoch 16/20\n",
            "47/47 [==============================] - 2s 46ms/step - loss: 0.0028 - accuracy: 0.9987 - val_loss: 0.8509 - val_accuracy: 0.8763\n",
            "Epoch 17/20\n",
            "47/47 [==============================] - 2s 45ms/step - loss: 0.0134 - accuracy: 0.9973 - val_loss: 0.8263 - val_accuracy: 0.8729\n",
            "Epoch 18/20\n",
            "47/47 [==============================] - 2s 45ms/step - loss: 0.0072 - accuracy: 0.9973 - val_loss: 0.9356 - val_accuracy: 0.8395\n",
            "Epoch 19/20\n",
            "47/47 [==============================] - 2s 51ms/step - loss: 0.0108 - accuracy: 0.9987 - val_loss: 1.1899 - val_accuracy: 0.8294\n",
            "Epoch 20/20\n",
            "47/47 [==============================] - 2s 51ms/step - loss: 6.2804e-04 - accuracy: 0.9993 - val_loss: 2.6110 - val_accuracy: 0.6923\n"
          ]
        },
        {
          "output_type": "execute_result",
          "data": {
            "text/plain": [
              "<keras.src.callbacks.History at 0x7caba02c0580>"
            ]
          },
          "metadata": {},
          "execution_count": 50
        }
      ]
    },
    {
      "cell_type": "code",
      "source": [
        "score = model.evaluate(x_test,y_test_encoded)\n",
        "print(\"%s: %.2f%%\" % (model.metrics_names[1], score[1]*100))"
      ],
      "metadata": {
        "colab": {
          "base_uri": "https://localhost:8080/"
        },
        "id": "4_j_MjAlM3F_",
        "outputId": "2932b79c-ff2f-4018-ca55-d1719bc10999"
      },
      "execution_count": 51,
      "outputs": [
        {
          "output_type": "stream",
          "name": "stdout",
          "text": [
            "10/10 [==============================] - 0s 38ms/step - loss: 2.5086 - accuracy: 0.6622\n",
            "accuracy: 66.22%\n"
          ]
        }
      ]
    }
  ]
}