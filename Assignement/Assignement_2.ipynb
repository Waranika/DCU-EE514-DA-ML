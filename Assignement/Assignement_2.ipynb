{
  "nbformat": 4,
  "nbformat_minor": 0,
  "metadata": {
    "colab": {
      "provenance": [],
      "mount_file_id": "https://github.com/Waranika/DCU-EE514-DA-ML/blob/main/Assignement/Assignement_2.ipynb",
      "authorship_tag": "ABX9TyOWXrdgSCpLZXOEVH4IuI3z",
      "include_colab_link": true
    },
    "kernelspec": {
      "name": "python3",
      "display_name": "Python 3"
    },
    "language_info": {
      "name": "python"
    }
  },
  "cells": [
    {
      "cell_type": "markdown",
      "metadata": {
        "id": "view-in-github",
        "colab_type": "text"
      },
      "source": [
        "<a href=\"https://colab.research.google.com/github/Waranika/DCU-EE514-DA-ML/blob/main/Assignement/Assignement_2.ipynb\" target=\"_parent\"><img src=\"https://colab.research.google.com/assets/colab-badge.svg\" alt=\"Open In Colab\"/></a>"
      ]
    },
    {
      "cell_type": "code",
      "source": [
        "import pandas as pd\n",
        "import numpy as np\n",
        "from sklearn.model_selection import train_test_split\n",
        "from tensorflow.keras.preprocessing.image import load_img, img_to_array\n",
        "from tensorflow.keras.utils import to_categorical\n",
        "from tensorflow.keras.models import Sequential\n",
        "from tensorflow.keras.layers import Conv2D, MaxPooling2D, Flatten, Dense\n",
        "from tensorflow.keras.applications.vgg16 import preprocess_input\n",
        "from tensorflow.keras.applications.vgg16 import VGG16\n",
        "from tensorflow.keras.preprocessing import image\n",
        "from tensorflow.keras.applications.vgg16 import preprocess_input\n",
        "from tensorflow.keras.models import Model\n",
        "from tensorflow.keras.layers import Dense, GlobalAveragePooling2D\n",
        "import tensorflow\n",
        "import keras"
      ],
      "metadata": {
        "id": "3XLuNOoDFNoZ"
      },
      "execution_count": 26,
      "outputs": []
    },
    {
      "cell_type": "code",
      "execution_count": 27,
      "metadata": {
        "id": "eUKPz5DKB2sB"
      },
      "outputs": [],
      "source": [
        "dataset = \"/content/drive/MyDrive/Mars Surface Images Dataset/Mars Surface Dataset/\""
      ]
    },
    {
      "cell_type": "code",
      "source": [
        "label =\"apxs cal target\", \"chemcam cal target\", \"chemin inlet open\", \"drill\",\"drill holes\", \"drt front\",\"drt side\",\"ground\",\"horizon\",\"inlet\",\"mahli\",\"mahli cal target\", \"mastcam\",\"mastcam cal target\", \"observation tray\",\"portion box\",\"portion tube\",\"portion tube opening\",\"rems uv sensor\",\"rover rear deck\",\"scoop\",\"sun\",\"turret\",\"wheel\""
      ],
      "metadata": {
        "id": "eycw4K_jKY9d"
      },
      "execution_count": 28,
      "outputs": []
    },
    {
      "cell_type": "code",
      "source": [
        "train = pd.read_csv(\"/content/drive/MyDrive/Mars Surface Images Dataset/Mars Surface Dataset/train-calibrated-shuffled.txt\", sep=\"\\s+\", names = [\"image\", \"labels\"] )\n",
        "print(train)"
      ],
      "metadata": {
        "colab": {
          "base_uri": "https://localhost:8080/"
        },
        "id": "uq3ksuoaMvba",
        "outputId": "315f90c4-d516-492d-fa01-6b2ab968b5dd"
      },
      "execution_count": 29,
      "outputs": [
        {
          "output_type": "stream",
          "name": "stdout",
          "text": [
            "                                              image  labels\n",
            "0     calibrated/0077ML0005780000102730I01_DRCL.JPG      15\n",
            "1     calibrated/0072MR0005610170103642E01_DRCL.JPG       8\n",
            "2     calibrated/0069MR0004130000103477I01_DRCL.JPG      21\n",
            "3     calibrated/0154ML0008510010104492E01_DRCL.JPG       8\n",
            "4     calibrated/0019MR0000530000100138C00_DRCL.JPG       8\n",
            "...                                             ...     ...\n",
            "3741  calibrated/0163ML0008760050104602D01_DRCL.JPG      10\n",
            "3742  calibrated/0072MR0005620000103655E01_DRCL.JPG       8\n",
            "3743  calibrated/0066ML0003650000102517M00_DRCL.JPG      21\n",
            "3744  calibrated/0157ML0008550020104531I01_DRCL.JPG       8\n",
            "3745  calibrated/0057ML0002640010102297E01_DRCL.JPG       8\n",
            "\n",
            "[3746 rows x 2 columns]\n"
          ]
        }
      ]
    },
    {
      "cell_type": "code",
      "source": [
        "test = pd.read_csv(\"/content/drive/MyDrive/Mars Surface Images Dataset/Mars Surface Dataset/test-calibrated-shuffled.txt\", sep=\"\\s+\", names = [\"image\", \"labels\"] )\n",
        "print(test)"
      ],
      "metadata": {
        "colab": {
          "base_uri": "https://localhost:8080/"
        },
        "id": "WgU80NonOPnc",
        "outputId": "7ecb8800-dea2-49f6-83f9-5e7542b3138e"
      },
      "execution_count": 30,
      "outputs": [
        {
          "output_type": "stream",
          "name": "stdout",
          "text": [
            "                                              image  labels\n",
            "0     calibrated/0830MR0036510000500684E01_DRCL.JPG       7\n",
            "1     calibrated/0640MH0002640000203781I01_DRCL.JPG      24\n",
            "2     calibrated/0647MH0003250050203806E01_DRCL.JPG       9\n",
            "3     calibrated/0844MR0037590000501001I01_DRCL.JPG       7\n",
            "4     calibrated/0618MR0026460020401253I01_DRCL.JPG      11\n",
            "...                                             ...     ...\n",
            "1300  calibrated/0571MH0002590000201894I01_DRCL.JPG      24\n",
            "1301  calibrated/0840ML0037090000401385I01_DRCL.JPG      17\n",
            "1302  calibrated/0868MH0003900000302200I01_DRCL.JPG      10\n",
            "1303  calibrated/0568MH0002630000201882E01_DRCL.JPG      24\n",
            "1304  calibrated/0613MH0003900000203392I01_DRCL.JPG      10\n",
            "\n",
            "[1305 rows x 2 columns]\n"
          ]
        }
      ]
    },
    {
      "cell_type": "code",
      "source": [
        "val = pd.read_csv(\"/content/drive/MyDrive/Mars Surface Images Dataset/Mars Surface Dataset/val-calibrated-shuffled.txt\", sep=\"\\s+\", names = [\"image\", \"labels\"] )\n",
        "print(val)"
      ],
      "metadata": {
        "colab": {
          "base_uri": "https://localhost:8080/"
        },
        "id": "OU06tHfGPKS2",
        "outputId": "bb876e68-1fd1-49a0-a334-e0d9f73af090"
      },
      "execution_count": 31,
      "outputs": [
        {
          "output_type": "stream",
          "name": "stdout",
          "text": [
            "                                              image  labels\n",
            "0     calibrated/0292MH0002810020103587C00_DRCL.JPG       5\n",
            "1     calibrated/0270MH0002530050102760I01_DRCL.JPG       5\n",
            "2     calibrated/0549MH0002620000201566E01_DRCL.JPG      24\n",
            "3     calibrated/0229MR0009720000202913E01_DRCL.JPG       0\n",
            "4     calibrated/0292MH0002810020103613C00_DRCL.JPG       5\n",
            "...                                             ...     ...\n",
            "1635  calibrated/0486MR0011580000302944E01_DRCL.JPG       0\n",
            "1636  calibrated/0506MH0002240020200655I01_DRCL.JPG       8\n",
            "1637  calibrated/0229MR0010840000202939I01_DRCL.JPG      16\n",
            "1638  calibrated/0229MR0009760000202918I01_DRCL.JPG      18\n",
            "1639  calibrated/0270MH0002530050102767E01_DRCL.JPG       5\n",
            "\n",
            "[1640 rows x 2 columns]\n"
          ]
        }
      ]
    },
    {
      "cell_type": "code",
      "source": [
        "# Load and preprocess images\n",
        "image_paths = train['image']\n",
        "base = \"/content/drive/MyDrive/Mars Surface Images Dataset/Mars Surface Dataset/train-calibrated-shuffled.txt\"\n",
        "\n",
        "x_train = np.empty(shape=(0,100,100,3))\n",
        "limit = 300\n",
        "\n",
        "id = 0\n",
        "\n",
        "for path in image_paths:\n",
        "    id = id +1\n",
        "    if id >= limit:\n",
        "      break\n",
        "\n",
        "    img = load_img(dataset+path, target_size=(100,100))  # Adjust target_size as needed\n",
        "    img_array = img_to_array(img)\n",
        "    img_array = np.expand_dims(img_array, axis=0)\n",
        "    img_array = preprocess_input(img_array)\n",
        "    x_train = np.vstack([x_train, img_array])\n",
        "\n",
        "\n",
        "y_train = train['labels']\n",
        "y_train = y_train[:299]\n"
      ],
      "metadata": {
        "id": "JXMbb0ekPX_d"
      },
      "execution_count": 32,
      "outputs": []
    },
    {
      "cell_type": "code",
      "source": [
        "print(len(x_train))\n",
        "print(y_train)"
      ],
      "metadata": {
        "colab": {
          "base_uri": "https://localhost:8080/"
        },
        "id": "H61K_tlqgwtV",
        "outputId": "e8d35bcb-054e-4ef5-c3b2-53b7cb988e44"
      },
      "execution_count": 33,
      "outputs": [
        {
          "output_type": "stream",
          "name": "stdout",
          "text": [
            "299\n",
            "0      15\n",
            "1       8\n",
            "2      21\n",
            "3       8\n",
            "4       8\n",
            "       ..\n",
            "294    10\n",
            "295     8\n",
            "296     8\n",
            "297    17\n",
            "298    14\n",
            "Name: labels, Length: 299, dtype: int64\n"
          ]
        }
      ]
    },
    {
      "cell_type": "code",
      "source": [
        "# Load and preprocess images\n",
        "image_paths = test['image']\n",
        "base = \"/content/drive/MyDrive/Mars Surface Images Dataset/Mars Surface Dataset/test-calibrated-shuffled.txt\"\n",
        "\n",
        "x_test = np.empty(shape=(0,100,100,3))\n",
        "limit = 300\n",
        "\n",
        "id = 0\n",
        "\n",
        "for path in image_paths:\n",
        "    id = id +1\n",
        "    if id >= limit:\n",
        "      break\n",
        "\n",
        "    img = load_img(dataset+path, target_size=(100,100))  # Adjust target_size as needed\n",
        "    img_array = img_to_array(img)\n",
        "    img_array = np.expand_dims(img_array, axis=0)\n",
        "    img_array = preprocess_input(img_array)\n",
        "    x_test = np.vstack([x_test, img_array])\n",
        "\n",
        "#figure label for test\n",
        "y_test = test['labels']\n",
        "y_test = y_test[:299]"
      ],
      "metadata": {
        "id": "GtN_rCq0idTd"
      },
      "execution_count": 34,
      "outputs": []
    },
    {
      "cell_type": "code",
      "source": [
        "print(len(x_test))"
      ],
      "metadata": {
        "colab": {
          "base_uri": "https://localhost:8080/"
        },
        "id": "-EpNfyByNFeb",
        "outputId": "d447dd5e-7043-4137-f6a3-4999eeddf48b"
      },
      "execution_count": 35,
      "outputs": [
        {
          "output_type": "stream",
          "name": "stdout",
          "text": [
            "299\n"
          ]
        }
      ]
    },
    {
      "cell_type": "code",
      "source": [
        "print(y_test)"
      ],
      "metadata": {
        "colab": {
          "base_uri": "https://localhost:8080/"
        },
        "id": "f8m8k8bdjTMI",
        "outputId": "dcf11934-082a-48e8-9d46-6659c8dabc66"
      },
      "execution_count": 36,
      "outputs": [
        {
          "output_type": "stream",
          "name": "stdout",
          "text": [
            "0       7\n",
            "1      24\n",
            "2       9\n",
            "3       7\n",
            "4      11\n",
            "       ..\n",
            "294     3\n",
            "295    24\n",
            "296     8\n",
            "297    24\n",
            "298    12\n",
            "Name: labels, Length: 299, dtype: int64\n"
          ]
        }
      ]
    },
    {
      "cell_type": "code",
      "source": [
        "from keras.utils import to_categorical\n",
        "\n",
        "y_train_encoded = to_categorical(y_train, num_classes=25)\n",
        "y_test_encoded = to_categorical(y_test, num_classes=25)"
      ],
      "metadata": {
        "id": "AuZA7Ri6qzzD"
      },
      "execution_count": 37,
      "outputs": []
    },
    {
      "cell_type": "markdown",
      "source": [
        "VGG-16"
      ],
      "metadata": {
        "id": "YPeFY37AkHvm"
      }
    },
    {
      "cell_type": "code",
      "source": [
        "VGGmodel = VGG16(weights='imagenet', include_top=False)\n",
        "#features = VGGmodel.predict(xTrain)\n",
        "#print(features.shape)\n",
        "\n",
        "# we will add layers to this feature extraction part of VGG network\n",
        "m = VGGmodel.output\n",
        "# we start with a global average pooling\n",
        "m = GlobalAveragePooling2D()(m)\n",
        "# and add a fully-connected layer\n",
        "m = Dense(1024, activation='relu')(m)\n",
        "# finally, the softmax layer for predictions (we have nbClasses classes)\n",
        "predictions = Dense(25, activation='softmax')(m)\n",
        "print(len(label))\n",
        "# global network\n",
        "model = Model(inputs=VGGmodel.input, outputs=predictions)\n",
        "model.summary()"
      ],
      "metadata": {
        "colab": {
          "base_uri": "https://localhost:8080/"
        },
        "id": "kiEXAFqnkF5k",
        "outputId": "3cd217e4-cce6-421c-8004-240313dbf81b"
      },
      "execution_count": 38,
      "outputs": [
        {
          "output_type": "stream",
          "name": "stdout",
          "text": [
            "24\n",
            "Model: \"model_1\"\n",
            "_________________________________________________________________\n",
            " Layer (type)                Output Shape              Param #   \n",
            "=================================================================\n",
            " input_2 (InputLayer)        [(None, None, None, 3)]   0         \n",
            "                                                                 \n",
            " block1_conv1 (Conv2D)       (None, None, None, 64)    1792      \n",
            "                                                                 \n",
            " block1_conv2 (Conv2D)       (None, None, None, 64)    36928     \n",
            "                                                                 \n",
            " block1_pool (MaxPooling2D)  (None, None, None, 64)    0         \n",
            "                                                                 \n",
            " block2_conv1 (Conv2D)       (None, None, None, 128)   73856     \n",
            "                                                                 \n",
            " block2_conv2 (Conv2D)       (None, None, None, 128)   147584    \n",
            "                                                                 \n",
            " block2_pool (MaxPooling2D)  (None, None, None, 128)   0         \n",
            "                                                                 \n",
            " block3_conv1 (Conv2D)       (None, None, None, 256)   295168    \n",
            "                                                                 \n",
            " block3_conv2 (Conv2D)       (None, None, None, 256)   590080    \n",
            "                                                                 \n",
            " block3_conv3 (Conv2D)       (None, None, None, 256)   590080    \n",
            "                                                                 \n",
            " block3_pool (MaxPooling2D)  (None, None, None, 256)   0         \n",
            "                                                                 \n",
            " block4_conv1 (Conv2D)       (None, None, None, 512)   1180160   \n",
            "                                                                 \n",
            " block4_conv2 (Conv2D)       (None, None, None, 512)   2359808   \n",
            "                                                                 \n",
            " block4_conv3 (Conv2D)       (None, None, None, 512)   2359808   \n",
            "                                                                 \n",
            " block4_pool (MaxPooling2D)  (None, None, None, 512)   0         \n",
            "                                                                 \n",
            " block5_conv1 (Conv2D)       (None, None, None, 512)   2359808   \n",
            "                                                                 \n",
            " block5_conv2 (Conv2D)       (None, None, None, 512)   2359808   \n",
            "                                                                 \n",
            " block5_conv3 (Conv2D)       (None, None, None, 512)   2359808   \n",
            "                                                                 \n",
            " block5_pool (MaxPooling2D)  (None, None, None, 512)   0         \n",
            "                                                                 \n",
            " global_average_pooling2d_1  (None, 512)               0         \n",
            "  (GlobalAveragePooling2D)                                       \n",
            "                                                                 \n",
            " dense_2 (Dense)             (None, 1024)              525312    \n",
            "                                                                 \n",
            " dense_3 (Dense)             (None, 25)                25625     \n",
            "                                                                 \n",
            "=================================================================\n",
            "Total params: 15265625 (58.23 MB)\n",
            "Trainable params: 15265625 (58.23 MB)\n",
            "Non-trainable params: 0 (0.00 Byte)\n",
            "_________________________________________________________________\n"
          ]
        }
      ]
    },
    {
      "cell_type": "code",
      "source": [
        "# training\n",
        "ourCallback = tensorflow.keras.callbacks.EarlyStopping(monitor='val_accuracy', min_delta=0.0001, patience=20, verbose=0, mode='auto', baseline=None, restore_best_weights=False)\n",
        "\n",
        "# training part I: training only the classification part (the end)\n",
        "for layer in VGGmodel.layers:\n",
        "    layer.trainable = False\n",
        "model.compile(optimizer='rmsprop', loss='categorical_crossentropy', metrics=['accuracy'])\n",
        "\n",
        "model.fit(x_train, y_train_encoded, epochs=20, batch_size=32, validation_split=0.2 , callbacks=[ourCallback],verbose=1)#to prenvent it from too long a run\n",
        "#add my own validation set\n",
        "#validation_data=(x_val, y_val_encoded)"
      ],
      "metadata": {
        "colab": {
          "base_uri": "https://localhost:8080/"
        },
        "id": "QAPxV5NWlPq2",
        "outputId": "d53e7143-64f6-4912-bc93-38d166383f3c"
      },
      "execution_count": 39,
      "outputs": [
        {
          "output_type": "stream",
          "name": "stdout",
          "text": [
            "Epoch 1/20\n",
            "8/8 [==============================] - 38s 5s/step - loss: 4.3975 - accuracy: 0.6444 - val_loss: 1.0362 - val_accuracy: 0.8833\n",
            "Epoch 2/20\n",
            "8/8 [==============================] - 40s 5s/step - loss: 0.0630 - accuracy: 0.9791 - val_loss: 1.0074 - val_accuracy: 0.9000\n",
            "Epoch 3/20\n",
            "8/8 [==============================] - 38s 5s/step - loss: 0.0155 - accuracy: 0.9958 - val_loss: 0.8329 - val_accuracy: 0.9333\n",
            "Epoch 4/20\n",
            "8/8 [==============================] - 38s 5s/step - loss: 0.0050 - accuracy: 1.0000 - val_loss: 0.8239 - val_accuracy: 0.9333\n",
            "Epoch 5/20\n",
            "8/8 [==============================] - 37s 5s/step - loss: 0.0029 - accuracy: 1.0000 - val_loss: 0.9472 - val_accuracy: 0.9000\n",
            "Epoch 6/20\n",
            "8/8 [==============================] - 38s 5s/step - loss: 0.5728 - accuracy: 0.9205 - val_loss: 1.1760 - val_accuracy: 0.9000\n",
            "Epoch 7/20\n",
            "8/8 [==============================] - 37s 5s/step - loss: 0.0498 - accuracy: 0.9916 - val_loss: 0.9594 - val_accuracy: 0.9333\n",
            "Epoch 8/20\n",
            "8/8 [==============================] - 38s 5s/step - loss: 0.0016 - accuracy: 1.0000 - val_loss: 0.9203 - val_accuracy: 0.9333\n",
            "Epoch 9/20\n",
            "8/8 [==============================] - 38s 5s/step - loss: 7.5075e-04 - accuracy: 1.0000 - val_loss: 0.9184 - val_accuracy: 0.9500\n",
            "Epoch 10/20\n",
            "8/8 [==============================] - 37s 5s/step - loss: 4.4442e-04 - accuracy: 1.0000 - val_loss: 0.9000 - val_accuracy: 0.9333\n",
            "Epoch 11/20\n",
            "8/8 [==============================] - 38s 5s/step - loss: 4.6514e-04 - accuracy: 1.0000 - val_loss: 0.9172 - val_accuracy: 0.9500\n",
            "Epoch 12/20\n",
            "8/8 [==============================] - 38s 5s/step - loss: 2.8169e-04 - accuracy: 1.0000 - val_loss: 0.8977 - val_accuracy: 0.9333\n",
            "Epoch 13/20\n",
            "8/8 [==============================] - 38s 5s/step - loss: 2.0526e-04 - accuracy: 1.0000 - val_loss: 0.9012 - val_accuracy: 0.9500\n",
            "Epoch 14/20\n",
            "8/8 [==============================] - 36s 5s/step - loss: 1.7131e-04 - accuracy: 1.0000 - val_loss: 0.8906 - val_accuracy: 0.9333\n",
            "Epoch 15/20\n",
            "8/8 [==============================] - 36s 5s/step - loss: 1.7226e-04 - accuracy: 1.0000 - val_loss: 0.8922 - val_accuracy: 0.9333\n",
            "Epoch 16/20\n",
            "8/8 [==============================] - 36s 4s/step - loss: 1.1214e-04 - accuracy: 1.0000 - val_loss: 0.8921 - val_accuracy: 0.9333\n",
            "Epoch 17/20\n",
            "8/8 [==============================] - 40s 5s/step - loss: 6.8860e-05 - accuracy: 1.0000 - val_loss: 0.8875 - val_accuracy: 0.9333\n",
            "Epoch 18/20\n",
            "8/8 [==============================] - 37s 5s/step - loss: 9.2579e-05 - accuracy: 1.0000 - val_loss: 0.8852 - val_accuracy: 0.9333\n",
            "Epoch 19/20\n",
            "8/8 [==============================] - 36s 5s/step - loss: 3.2123e-04 - accuracy: 1.0000 - val_loss: 0.8956 - val_accuracy: 0.9333\n",
            "Epoch 20/20\n",
            "8/8 [==============================] - 38s 5s/step - loss: 3.4382e-05 - accuracy: 1.0000 - val_loss: 0.8972 - val_accuracy: 0.9333\n"
          ]
        },
        {
          "output_type": "execute_result",
          "data": {
            "text/plain": [
              "<keras.src.callbacks.History at 0x7d9848059990>"
            ]
          },
          "metadata": {},
          "execution_count": 39
        }
      ]
    },
    {
      "cell_type": "code",
      "source": [
        "score = model.evaluate(x_test,y_test_encoded)\n",
        "print(\"%s: %.2f%%\" % (model.metrics_names[1], score[1]*100))"
      ],
      "metadata": {
        "colab": {
          "base_uri": "https://localhost:8080/"
        },
        "id": "4_j_MjAlM3F_",
        "outputId": "b3a1183d-9994-40cc-d228-8b36bea25eea"
      },
      "execution_count": 40,
      "outputs": [
        {
          "output_type": "stream",
          "name": "stdout",
          "text": [
            "10/10 [==============================] - 36s 3s/step - loss: 9.1751 - accuracy: 0.4649\n",
            "accuracy: 46.49%\n"
          ]
        }
      ]
    }
  ]
}