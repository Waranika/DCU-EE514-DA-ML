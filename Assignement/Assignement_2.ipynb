{
  "nbformat": 4,
  "nbformat_minor": 0,
  "metadata": {
    "colab": {
      "provenance": [],
      "authorship_tag": "ABX9TyPyj53tdfaqjntXKtzGGnJ0",
      "include_colab_link": true
    },
    "kernelspec": {
      "name": "python3",
      "display_name": "Python 3"
    },
    "language_info": {
      "name": "python"
    }
  },
  "cells": [
    {
      "cell_type": "markdown",
      "metadata": {
        "id": "view-in-github",
        "colab_type": "text"
      },
      "source": [
        "<a href=\"https://colab.research.google.com/github/Waranika/DCU-EE514-DA-ML/blob/main/Assignement/Assignement_2.ipynb\" target=\"_parent\"><img src=\"https://colab.research.google.com/assets/colab-badge.svg\" alt=\"Open In Colab\"/></a>"
      ]
    },
    {
      "cell_type": "code",
      "source": [
        "import pandas as pd\n",
        "import numpy as np\n",
        "from sklearn.model_selection import train_test_split\n",
        "from tensorflow.keras.preprocessing.image import load_img, img_to_array\n",
        "from tensorflow.keras.utils import to_categorical\n",
        "from tensorflow.keras.models import Sequential\n",
        "from tensorflow.keras.layers import Conv2D, MaxPooling2D, Flatten, Dense"
      ],
      "metadata": {
        "id": "3XLuNOoDFNoZ"
      },
      "execution_count": 104,
      "outputs": []
    },
    {
      "cell_type": "code",
      "execution_count": 105,
      "metadata": {
        "id": "eUKPz5DKB2sB"
      },
      "outputs": [],
      "source": [
        "dataset = \"/content/drive/MyDrive/Mars Surface Images Dataset/Mars Surface Dataset/\""
      ]
    },
    {
      "cell_type": "code",
      "source": [
        "label =\"apxs cal target\", \"chemcam cal target\", \"chemin inlet open\", \"drill,drill holes\", \"drt front\",\"drt side\",\"ground\",\"horizon\",\"inlet\",\"mahli\",\"mahli cal target\", \"mastcam\",\"mastcam cal target\", \"observation tray\",\"portion box\",\"portion tube\",\"portion tube opening\",\"rems uv sensor\",\"rover rear deck\",\"scoop\",\"sun\",\"turret\",\"wheel\""
      ],
      "metadata": {
        "id": "eycw4K_jKY9d"
      },
      "execution_count": 106,
      "outputs": []
    },
    {
      "cell_type": "code",
      "source": [
        "train = pd.read_csv(\"/content/drive/MyDrive/Mars Surface Images Dataset/Mars Surface Dataset/train-calibrated-shuffled.txt\", sep=\"\\s+\", names = [\"image\", \"labels\"] )\n",
        "print(train)"
      ],
      "metadata": {
        "colab": {
          "base_uri": "https://localhost:8080/"
        },
        "id": "uq3ksuoaMvba",
        "outputId": "076b42f0-e036-4995-b4a8-62fcec032e4f"
      },
      "execution_count": 107,
      "outputs": [
        {
          "output_type": "stream",
          "name": "stdout",
          "text": [
            "                                              image  labels\n",
            "0     calibrated/0077ML0005780000102730I01_DRCL.JPG      15\n",
            "1     calibrated/0072MR0005610170103642E01_DRCL.JPG       8\n",
            "2     calibrated/0069MR0004130000103477I01_DRCL.JPG      21\n",
            "3     calibrated/0154ML0008510010104492E01_DRCL.JPG       8\n",
            "4     calibrated/0019MR0000530000100138C00_DRCL.JPG       8\n",
            "...                                             ...     ...\n",
            "3741  calibrated/0163ML0008760050104602D01_DRCL.JPG      10\n",
            "3742  calibrated/0072MR0005620000103655E01_DRCL.JPG       8\n",
            "3743  calibrated/0066ML0003650000102517M00_DRCL.JPG      21\n",
            "3744  calibrated/0157ML0008550020104531I01_DRCL.JPG       8\n",
            "3745  calibrated/0057ML0002640010102297E01_DRCL.JPG       8\n",
            "\n",
            "[3746 rows x 2 columns]\n"
          ]
        }
      ]
    },
    {
      "cell_type": "code",
      "source": [
        "test = pd.read_csv(\"/content/drive/MyDrive/Mars Surface Images Dataset/Mars Surface Dataset/test-calibrated-shuffled.txt\", sep=\"\\s+\", names = [\"image\", \"labels\"] )\n",
        "print(test)"
      ],
      "metadata": {
        "colab": {
          "base_uri": "https://localhost:8080/"
        },
        "id": "WgU80NonOPnc",
        "outputId": "ffcf0181-843b-433a-bb5a-28f5102f4ab8"
      },
      "execution_count": 108,
      "outputs": [
        {
          "output_type": "stream",
          "name": "stdout",
          "text": [
            "                                              image  labels\n",
            "0     calibrated/0830MR0036510000500684E01_DRCL.JPG       7\n",
            "1     calibrated/0640MH0002640000203781I01_DRCL.JPG      24\n",
            "2     calibrated/0647MH0003250050203806E01_DRCL.JPG       9\n",
            "3     calibrated/0844MR0037590000501001I01_DRCL.JPG       7\n",
            "4     calibrated/0618MR0026460020401253I01_DRCL.JPG      11\n",
            "...                                             ...     ...\n",
            "1300  calibrated/0571MH0002590000201894I01_DRCL.JPG      24\n",
            "1301  calibrated/0840ML0037090000401385I01_DRCL.JPG      17\n",
            "1302  calibrated/0868MH0003900000302200I01_DRCL.JPG      10\n",
            "1303  calibrated/0568MH0002630000201882E01_DRCL.JPG      24\n",
            "1304  calibrated/0613MH0003900000203392I01_DRCL.JPG      10\n",
            "\n",
            "[1305 rows x 2 columns]\n"
          ]
        }
      ]
    },
    {
      "cell_type": "code",
      "source": [
        "val = pd.read_csv(\"/content/drive/MyDrive/Mars Surface Images Dataset/Mars Surface Dataset/val-calibrated-shuffled.txt\", sep=\"\\s+\", names = [\"image\", \"labels\"] )\n",
        "print(val)"
      ],
      "metadata": {
        "colab": {
          "base_uri": "https://localhost:8080/"
        },
        "id": "OU06tHfGPKS2",
        "outputId": "66a9c003-83a6-40a6-983d-4921f381c718"
      },
      "execution_count": 109,
      "outputs": [
        {
          "output_type": "stream",
          "name": "stdout",
          "text": [
            "                                              image  labels\n",
            "0     calibrated/0292MH0002810020103587C00_DRCL.JPG       5\n",
            "1     calibrated/0270MH0002530050102760I01_DRCL.JPG       5\n",
            "2     calibrated/0549MH0002620000201566E01_DRCL.JPG      24\n",
            "3     calibrated/0229MR0009720000202913E01_DRCL.JPG       0\n",
            "4     calibrated/0292MH0002810020103613C00_DRCL.JPG       5\n",
            "...                                             ...     ...\n",
            "1635  calibrated/0486MR0011580000302944E01_DRCL.JPG       0\n",
            "1636  calibrated/0506MH0002240020200655I01_DRCL.JPG       8\n",
            "1637  calibrated/0229MR0010840000202939I01_DRCL.JPG      16\n",
            "1638  calibrated/0229MR0009760000202918I01_DRCL.JPG      18\n",
            "1639  calibrated/0270MH0002530050102767E01_DRCL.JPG       5\n",
            "\n",
            "[1640 rows x 2 columns]\n"
          ]
        }
      ]
    },
    {
      "cell_type": "code",
      "source": [
        "# Load and preprocess images\n",
        "image_paths = train['image']\n",
        "labels = train['labels']\n",
        "base = \"/content/drive/MyDrive/Mars Surface Images Dataset/Mars Surface Dataset/train-calibrated-shuffled.txt\"\n",
        "\n",
        "data = []\n",
        "for path in image_paths:\n",
        "    img = load_img(dataset+path)  # Adjust target_size as needed\n",
        "    img_array = img_to_array(img)\n",
        "    img_array /= 255.0  # Normalize pixel values\n",
        "    data.append(img_array)\n",
        "\n",
        "X = np.array(data)\n",
        "y = to_categorical(labels)  # Assuming labels are categorical\n"
      ],
      "metadata": {
        "colab": {
          "base_uri": "https://localhost:8080/",
          "height": 400
        },
        "id": "JXMbb0ekPX_d",
        "outputId": "22f8af73-b84e-4291-c754-b34d14e3a540"
      },
      "execution_count": 110,
      "outputs": [
        {
          "output_type": "error",
          "ename": "KeyboardInterrupt",
          "evalue": "ignored",
          "traceback": [
            "\u001b[0;31m---------------------------------------------------------------------------\u001b[0m",
            "\u001b[0;31mKeyboardInterrupt\u001b[0m                         Traceback (most recent call last)",
            "\u001b[0;32m<ipython-input-110-106f4bc471ef>\u001b[0m in \u001b[0;36m<cell line: 7>\u001b[0;34m()\u001b[0m\n\u001b[1;32m      6\u001b[0m \u001b[0mdata\u001b[0m \u001b[0;34m=\u001b[0m \u001b[0;34m[\u001b[0m\u001b[0;34m]\u001b[0m\u001b[0;34m\u001b[0m\u001b[0;34m\u001b[0m\u001b[0m\n\u001b[1;32m      7\u001b[0m \u001b[0;32mfor\u001b[0m \u001b[0mpath\u001b[0m \u001b[0;32min\u001b[0m \u001b[0mimage_paths\u001b[0m\u001b[0;34m:\u001b[0m\u001b[0;34m\u001b[0m\u001b[0;34m\u001b[0m\u001b[0m\n\u001b[0;32m----> 8\u001b[0;31m     \u001b[0mimg\u001b[0m \u001b[0;34m=\u001b[0m \u001b[0mload_img\u001b[0m\u001b[0;34m(\u001b[0m\u001b[0mdataset\u001b[0m\u001b[0;34m+\u001b[0m\u001b[0mpath\u001b[0m\u001b[0;34m)\u001b[0m  \u001b[0;31m# Adjust target_size as needed\u001b[0m\u001b[0;34m\u001b[0m\u001b[0;34m\u001b[0m\u001b[0m\n\u001b[0m\u001b[1;32m      9\u001b[0m     \u001b[0mimg_array\u001b[0m \u001b[0;34m=\u001b[0m \u001b[0mimg_to_array\u001b[0m\u001b[0;34m(\u001b[0m\u001b[0mimg\u001b[0m\u001b[0;34m)\u001b[0m\u001b[0;34m\u001b[0m\u001b[0;34m\u001b[0m\u001b[0m\n\u001b[1;32m     10\u001b[0m     \u001b[0mimg_array\u001b[0m \u001b[0;34m/=\u001b[0m \u001b[0;36m255.0\u001b[0m  \u001b[0;31m# Normalize pixel values\u001b[0m\u001b[0;34m\u001b[0m\u001b[0;34m\u001b[0m\u001b[0m\n",
            "\u001b[0;32m/usr/local/lib/python3.10/dist-packages/keras/src/utils/image_utils.py\u001b[0m in \u001b[0;36mload_img\u001b[0;34m(path, grayscale, color_mode, target_size, interpolation, keep_aspect_ratio)\u001b[0m\n\u001b[1;32m    421\u001b[0m             \u001b[0mpath\u001b[0m \u001b[0;34m=\u001b[0m \u001b[0mstr\u001b[0m\u001b[0;34m(\u001b[0m\u001b[0mpath\u001b[0m\u001b[0;34m.\u001b[0m\u001b[0mresolve\u001b[0m\u001b[0;34m(\u001b[0m\u001b[0;34m)\u001b[0m\u001b[0;34m)\u001b[0m\u001b[0;34m\u001b[0m\u001b[0;34m\u001b[0m\u001b[0m\n\u001b[1;32m    422\u001b[0m         \u001b[0;32mwith\u001b[0m \u001b[0mopen\u001b[0m\u001b[0;34m(\u001b[0m\u001b[0mpath\u001b[0m\u001b[0;34m,\u001b[0m \u001b[0;34m\"rb\"\u001b[0m\u001b[0;34m)\u001b[0m \u001b[0;32mas\u001b[0m \u001b[0mf\u001b[0m\u001b[0;34m:\u001b[0m\u001b[0;34m\u001b[0m\u001b[0;34m\u001b[0m\u001b[0m\n\u001b[0;32m--> 423\u001b[0;31m             \u001b[0mimg\u001b[0m \u001b[0;34m=\u001b[0m \u001b[0mpil_image\u001b[0m\u001b[0;34m.\u001b[0m\u001b[0mopen\u001b[0m\u001b[0;34m(\u001b[0m\u001b[0mio\u001b[0m\u001b[0;34m.\u001b[0m\u001b[0mBytesIO\u001b[0m\u001b[0;34m(\u001b[0m\u001b[0mf\u001b[0m\u001b[0;34m.\u001b[0m\u001b[0mread\u001b[0m\u001b[0;34m(\u001b[0m\u001b[0;34m)\u001b[0m\u001b[0;34m)\u001b[0m\u001b[0;34m)\u001b[0m\u001b[0;34m\u001b[0m\u001b[0;34m\u001b[0m\u001b[0m\n\u001b[0m\u001b[1;32m    424\u001b[0m     \u001b[0;32melse\u001b[0m\u001b[0;34m:\u001b[0m\u001b[0;34m\u001b[0m\u001b[0;34m\u001b[0m\u001b[0m\n\u001b[1;32m    425\u001b[0m         raise TypeError(\n",
            "\u001b[0;31mKeyboardInterrupt\u001b[0m: "
          ]
        }
      ]
    }
  ]
}