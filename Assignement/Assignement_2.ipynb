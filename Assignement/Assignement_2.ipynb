{
  "nbformat": 4,
  "nbformat_minor": 0,
  "metadata": {
    "colab": {
      "provenance": [],
      "mount_file_id": "https://github.com/Waranika/DCU-EE514-DA-ML/blob/main/Assignement/Assignement_2.ipynb",
      "authorship_tag": "ABX9TyNIKONR7zKCkgS+swmKm2U/",
      "include_colab_link": true
    },
    "kernelspec": {
      "name": "python3",
      "display_name": "Python 3"
    },
    "language_info": {
      "name": "python"
    }
  },
  "cells": [
    {
      "cell_type": "markdown",
      "metadata": {
        "id": "view-in-github",
        "colab_type": "text"
      },
      "source": [
        "<a href=\"https://colab.research.google.com/github/Waranika/DCU-EE514-DA-ML/blob/main/Assignement/Assignement_2.ipynb\" target=\"_parent\"><img src=\"https://colab.research.google.com/assets/colab-badge.svg\" alt=\"Open In Colab\"/></a>"
      ]
    },
    {
      "cell_type": "code",
      "source": [
        "import pandas as pd\n",
        "import numpy as np\n",
        "from sklearn.model_selection import train_test_split\n",
        "from tensorflow.keras.preprocessing.image import load_img, img_to_array\n",
        "from tensorflow.keras.utils import to_categorical\n",
        "from tensorflow.keras.models import Sequential\n",
        "from tensorflow.keras.layers import Conv2D, MaxPooling2D, Flatten, Dense\n",
        "from tensorflow.keras.applications.vgg16 import preprocess_input\n",
        "from tensorflow.keras.applications.vgg16 import VGG16\n",
        "from tensorflow.keras.preprocessing import image\n",
        "from tensorflow.keras.applications.vgg16 import preprocess_input\n",
        "from tensorflow.keras.models import Model\n",
        "from tensorflow.keras.layers import Dense, GlobalAveragePooling2D\n",
        "import tensorflow\n",
        "import keras"
      ],
      "metadata": {
        "id": "3XLuNOoDFNoZ"
      },
      "execution_count": 122,
      "outputs": []
    },
    {
      "cell_type": "code",
      "execution_count": 123,
      "metadata": {
        "id": "eUKPz5DKB2sB"
      },
      "outputs": [],
      "source": [
        "dataset = \"/content/drive/MyDrive/Mars Surface Images Dataset/Mars Surface Dataset/\""
      ]
    },
    {
      "cell_type": "code",
      "source": [
        "label =\"apxs cal target\", \"chemcam cal target\", \"chemin inlet open\", \"drill\",\"drill holes\", \"drt front\",\"drt side\",\"ground\",\"horizon\",\"inlet\",\"mahli\",\"mahli cal target\", \"mastcam\",\"mastcam cal target\", \"observation tray\",\"portion box\",\"portion tube\",\"portion tube opening\",\"rems uv sensor\",\"rover rear deck\",\"scoop\",\"sun\",\"turret\",\"wheel\""
      ],
      "metadata": {
        "id": "eycw4K_jKY9d"
      },
      "execution_count": 124,
      "outputs": []
    },
    {
      "cell_type": "code",
      "source": [
        "train = pd.read_csv(\"/content/drive/MyDrive/Mars Surface Images Dataset/Mars Surface Dataset/train-calibrated-shuffled.txt\", sep=\"\\s+\", names = [\"image\", \"labels\"] )\n",
        "print(train)"
      ],
      "metadata": {
        "colab": {
          "base_uri": "https://localhost:8080/"
        },
        "id": "uq3ksuoaMvba",
        "outputId": "5d1c21da-9375-437b-91f8-fdb05f4f8041"
      },
      "execution_count": 125,
      "outputs": [
        {
          "output_type": "stream",
          "name": "stdout",
          "text": [
            "                                              image  labels\n",
            "0     calibrated/0077ML0005780000102730I01_DRCL.JPG      15\n",
            "1     calibrated/0072MR0005610170103642E01_DRCL.JPG       8\n",
            "2     calibrated/0069MR0004130000103477I01_DRCL.JPG      21\n",
            "3     calibrated/0154ML0008510010104492E01_DRCL.JPG       8\n",
            "4     calibrated/0019MR0000530000100138C00_DRCL.JPG       8\n",
            "...                                             ...     ...\n",
            "3741  calibrated/0163ML0008760050104602D01_DRCL.JPG      10\n",
            "3742  calibrated/0072MR0005620000103655E01_DRCL.JPG       8\n",
            "3743  calibrated/0066ML0003650000102517M00_DRCL.JPG      21\n",
            "3744  calibrated/0157ML0008550020104531I01_DRCL.JPG       8\n",
            "3745  calibrated/0057ML0002640010102297E01_DRCL.JPG       8\n",
            "\n",
            "[3746 rows x 2 columns]\n"
          ]
        }
      ]
    },
    {
      "cell_type": "code",
      "source": [
        "test = pd.read_csv(\"/content/drive/MyDrive/Mars Surface Images Dataset/Mars Surface Dataset/test-calibrated-shuffled.txt\", sep=\"\\s+\", names = [\"image\", \"labels\"] )\n",
        "print(test)"
      ],
      "metadata": {
        "colab": {
          "base_uri": "https://localhost:8080/"
        },
        "id": "WgU80NonOPnc",
        "outputId": "68e42eee-af89-43d1-8b80-eaa436852cb0"
      },
      "execution_count": 126,
      "outputs": [
        {
          "output_type": "stream",
          "name": "stdout",
          "text": [
            "                                              image  labels\n",
            "0     calibrated/0830MR0036510000500684E01_DRCL.JPG       7\n",
            "1     calibrated/0640MH0002640000203781I01_DRCL.JPG      24\n",
            "2     calibrated/0647MH0003250050203806E01_DRCL.JPG       9\n",
            "3     calibrated/0844MR0037590000501001I01_DRCL.JPG       7\n",
            "4     calibrated/0618MR0026460020401253I01_DRCL.JPG      11\n",
            "...                                             ...     ...\n",
            "1300  calibrated/0571MH0002590000201894I01_DRCL.JPG      24\n",
            "1301  calibrated/0840ML0037090000401385I01_DRCL.JPG      17\n",
            "1302  calibrated/0868MH0003900000302200I01_DRCL.JPG      10\n",
            "1303  calibrated/0568MH0002630000201882E01_DRCL.JPG      24\n",
            "1304  calibrated/0613MH0003900000203392I01_DRCL.JPG      10\n",
            "\n",
            "[1305 rows x 2 columns]\n"
          ]
        }
      ]
    },
    {
      "cell_type": "code",
      "source": [
        "val = pd.read_csv(\"/content/drive/MyDrive/Mars Surface Images Dataset/Mars Surface Dataset/val-calibrated-shuffled.txt\", sep=\"\\s+\", names = [\"image\", \"labels\"] )\n",
        "print(val)"
      ],
      "metadata": {
        "colab": {
          "base_uri": "https://localhost:8080/"
        },
        "id": "OU06tHfGPKS2",
        "outputId": "391c75c6-b97a-453a-87b3-384f2f462295"
      },
      "execution_count": 127,
      "outputs": [
        {
          "output_type": "stream",
          "name": "stdout",
          "text": [
            "                                              image  labels\n",
            "0     calibrated/0292MH0002810020103587C00_DRCL.JPG       5\n",
            "1     calibrated/0270MH0002530050102760I01_DRCL.JPG       5\n",
            "2     calibrated/0549MH0002620000201566E01_DRCL.JPG      24\n",
            "3     calibrated/0229MR0009720000202913E01_DRCL.JPG       0\n",
            "4     calibrated/0292MH0002810020103613C00_DRCL.JPG       5\n",
            "...                                             ...     ...\n",
            "1635  calibrated/0486MR0011580000302944E01_DRCL.JPG       0\n",
            "1636  calibrated/0506MH0002240020200655I01_DRCL.JPG       8\n",
            "1637  calibrated/0229MR0010840000202939I01_DRCL.JPG      16\n",
            "1638  calibrated/0229MR0009760000202918I01_DRCL.JPG      18\n",
            "1639  calibrated/0270MH0002530050102767E01_DRCL.JPG       5\n",
            "\n",
            "[1640 rows x 2 columns]\n"
          ]
        }
      ]
    },
    {
      "cell_type": "code",
      "source": [
        "# Load and preprocess images\n",
        "image_paths = train['image']\n",
        "base = \"/content/drive/MyDrive/Mars Surface Images Dataset/Mars Surface Dataset/train-calibrated-shuffled.txt\"\n",
        "\n",
        "x_train = np.empty(shape=(0,100,100,3))\n",
        "limit = 300\n",
        "\n",
        "id = 0\n",
        "\n",
        "for path in image_paths:\n",
        "    id = id +1\n",
        "    if id >= limit:\n",
        "      break\n",
        "\n",
        "    img = load_img(dataset+path, target_size=(100,100))  # Adjust target_size as needed\n",
        "    img_array = img_to_array(img)\n",
        "    img_array = np.expand_dims(img_array, axis=0)\n",
        "    img_array = preprocess_input(img_array)\n",
        "    x_train = np.vstack([x_train, img_array])\n",
        "\n",
        "\n",
        "y_train = train['labels']\n",
        "y_train = y_train[:300]\n"
      ],
      "metadata": {
        "id": "JXMbb0ekPX_d"
      },
      "execution_count": 128,
      "outputs": []
    },
    {
      "cell_type": "code",
      "source": [
        "print(len(x_train))\n",
        "print(y_train)"
      ],
      "metadata": {
        "colab": {
          "base_uri": "https://localhost:8080/"
        },
        "id": "H61K_tlqgwtV",
        "outputId": "bb6b455a-34a3-4319-a688-561b5301669d"
      },
      "execution_count": 129,
      "outputs": [
        {
          "output_type": "stream",
          "name": "stdout",
          "text": [
            "299\n",
            "0      15\n",
            "1       8\n",
            "2      21\n",
            "3       8\n",
            "4       8\n",
            "       ..\n",
            "295     8\n",
            "296     8\n",
            "297    17\n",
            "298    14\n",
            "299     8\n",
            "Name: labels, Length: 300, dtype: int64\n"
          ]
        }
      ]
    },
    {
      "cell_type": "code",
      "source": [
        "# Load and preprocess images\n",
        "image_paths = test['image']\n",
        "base = \"/content/drive/MyDrive/Mars Surface Images Dataset/Mars Surface Dataset/test-calibrated-shuffled.txt\"\n",
        "\n",
        "x_test = np.empty(shape=(0,100,100,3))\n",
        "limit = 300\n",
        "\n",
        "id = 0\n",
        "\n",
        "for path in image_paths:\n",
        "    id = id +1\n",
        "    if id >= limit:\n",
        "      break\n",
        "\n",
        "    img = load_img(dataset+path, target_size=(100,100))  # Adjust target_size as needed\n",
        "    img_array = img_to_array(img)\n",
        "    img_array = np.expand_dims(img_array, axis=0)\n",
        "    img_array = preprocess_input(img_array)\n",
        "    x_test = np.vstack([x_test, img_array])\n",
        "\n",
        "#figure label for test\n",
        "y_test = test['labels']\n",
        "y_test = y_test[:300]"
      ],
      "metadata": {
        "id": "GtN_rCq0idTd"
      },
      "execution_count": 130,
      "outputs": []
    },
    {
      "cell_type": "code",
      "source": [
        "print(y_test)"
      ],
      "metadata": {
        "colab": {
          "base_uri": "https://localhost:8080/"
        },
        "id": "f8m8k8bdjTMI",
        "outputId": "90a25005-8f72-4487-b8ec-c597c85429d3"
      },
      "execution_count": 131,
      "outputs": [
        {
          "output_type": "stream",
          "name": "stdout",
          "text": [
            "0       7\n",
            "1      24\n",
            "2       9\n",
            "3       7\n",
            "4      11\n",
            "       ..\n",
            "295    24\n",
            "296     8\n",
            "297    24\n",
            "298    12\n",
            "299     1\n",
            "Name: labels, Length: 300, dtype: int64\n"
          ]
        }
      ]
    },
    {
      "cell_type": "code",
      "source": [
        "from keras.utils import to_categorical\n",
        "\n",
        "y_train_encoded = to_categorical(y_train, num_classes=25)\n",
        "y_test_encoded = to_categorical(y_test, num_classes=25)"
      ],
      "metadata": {
        "id": "AuZA7Ri6qzzD"
      },
      "execution_count": 132,
      "outputs": []
    },
    {
      "cell_type": "markdown",
      "source": [
        "VGG-16"
      ],
      "metadata": {
        "id": "YPeFY37AkHvm"
      }
    },
    {
      "cell_type": "code",
      "source": [
        "VGGmodel = VGG16(weights='imagenet', include_top=False)\n",
        "#features = VGGmodel.predict(xTrain)\n",
        "#print(features.shape)\n",
        "\n",
        "# we will add layers to this feature extraction part of VGG network\n",
        "m = VGGmodel.output\n",
        "# we start with a global average pooling\n",
        "m = GlobalAveragePooling2D()(m)\n",
        "# and add a fully-connected layer\n",
        "m = Dense(1024, activation='relu')(m)\n",
        "# finally, the softmax layer for predictions (we have nbClasses classes)\n",
        "predictions = Dense(25, activation='softmax')(m)\n",
        "print(len(label))\n",
        "# global network\n",
        "model = Model(inputs=VGGmodel.input, outputs=predictions)\n",
        "model.summary()"
      ],
      "metadata": {
        "colab": {
          "base_uri": "https://localhost:8080/"
        },
        "id": "kiEXAFqnkF5k",
        "outputId": "602460b9-1550-4f03-c81e-cbedc007a314"
      },
      "execution_count": 133,
      "outputs": [
        {
          "output_type": "stream",
          "name": "stdout",
          "text": [
            "24\n",
            "Model: \"model_5\"\n",
            "_________________________________________________________________\n",
            " Layer (type)                Output Shape              Param #   \n",
            "=================================================================\n",
            " input_7 (InputLayer)        [(None, None, None, 3)]   0         \n",
            "                                                                 \n",
            " block1_conv1 (Conv2D)       (None, None, None, 64)    1792      \n",
            "                                                                 \n",
            " block1_conv2 (Conv2D)       (None, None, None, 64)    36928     \n",
            "                                                                 \n",
            " block1_pool (MaxPooling2D)  (None, None, None, 64)    0         \n",
            "                                                                 \n",
            " block2_conv1 (Conv2D)       (None, None, None, 128)   73856     \n",
            "                                                                 \n",
            " block2_conv2 (Conv2D)       (None, None, None, 128)   147584    \n",
            "                                                                 \n",
            " block2_pool (MaxPooling2D)  (None, None, None, 128)   0         \n",
            "                                                                 \n",
            " block3_conv1 (Conv2D)       (None, None, None, 256)   295168    \n",
            "                                                                 \n",
            " block3_conv2 (Conv2D)       (None, None, None, 256)   590080    \n",
            "                                                                 \n",
            " block3_conv3 (Conv2D)       (None, None, None, 256)   590080    \n",
            "                                                                 \n",
            " block3_pool (MaxPooling2D)  (None, None, None, 256)   0         \n",
            "                                                                 \n",
            " block4_conv1 (Conv2D)       (None, None, None, 512)   1180160   \n",
            "                                                                 \n",
            " block4_conv2 (Conv2D)       (None, None, None, 512)   2359808   \n",
            "                                                                 \n",
            " block4_conv3 (Conv2D)       (None, None, None, 512)   2359808   \n",
            "                                                                 \n",
            " block4_pool (MaxPooling2D)  (None, None, None, 512)   0         \n",
            "                                                                 \n",
            " block5_conv1 (Conv2D)       (None, None, None, 512)   2359808   \n",
            "                                                                 \n",
            " block5_conv2 (Conv2D)       (None, None, None, 512)   2359808   \n",
            "                                                                 \n",
            " block5_conv3 (Conv2D)       (None, None, None, 512)   2359808   \n",
            "                                                                 \n",
            " block5_pool (MaxPooling2D)  (None, None, None, 512)   0         \n",
            "                                                                 \n",
            " global_average_pooling2d_6  (None, 512)               0         \n",
            "  (GlobalAveragePooling2D)                                       \n",
            "                                                                 \n",
            " dense_11 (Dense)            (None, 1024)              525312    \n",
            "                                                                 \n",
            " dense_12 (Dense)            (None, 25)                25625     \n",
            "                                                                 \n",
            "=================================================================\n",
            "Total params: 15265625 (58.23 MB)\n",
            "Trainable params: 15265625 (58.23 MB)\n",
            "Non-trainable params: 0 (0.00 Byte)\n",
            "_________________________________________________________________\n"
          ]
        }
      ]
    },
    {
      "cell_type": "code",
      "source": [
        "# training\n",
        "ourCallback = tensorflow.keras.callbacks.EarlyStopping(monitor='val_accuracy', min_delta=0.0001, patience=20, verbose=0, mode='auto', baseline=None, restore_best_weights=False)\n",
        "\n",
        "# training part I: training only the classification part (the end)\n",
        "for layer in VGGmodel.layers:\n",
        "    layer.trainable = False\n",
        "model.compile(optimizer='rmsprop', loss='categorical_crossentropy', metrics=['accuracy'])\n",
        "\n",
        "model.fit(x_train, y_train_encoded, epochs=20, batch_size=32, validation_split=0.2, callbacks=[ourCallback],verbose=1)#to prenvent it from too long a run"
      ],
      "metadata": {
        "colab": {
          "base_uri": "https://localhost:8080/"
        },
        "id": "QAPxV5NWlPq2",
        "outputId": "396a835c-115e-4720-f35e-e318a3143d1d"
      },
      "execution_count": null,
      "outputs": [
        {
          "output_type": "stream",
          "name": "stdout",
          "text": [
            "Epoch 1/20\n",
            "8/8 [==============================] - 34s 4s/step - loss: 4.8659 - accuracy: 0.6402 - val_loss: 0.8244 - val_accuracy: 0.8500\n",
            "Epoch 2/20\n",
            "8/8 [==============================] - 35s 5s/step - loss: 0.2895 - accuracy: 0.9456 - val_loss: 0.4677 - val_accuracy: 0.9167\n",
            "Epoch 3/20\n",
            "8/8 [==============================] - 38s 5s/step - loss: 0.0109 - accuracy: 0.9958 - val_loss: 0.4525 - val_accuracy: 0.9167\n",
            "Epoch 4/20\n",
            "8/8 [==============================] - 32s 4s/step - loss: 0.0068 - accuracy: 1.0000 - val_loss: 0.4083 - val_accuracy: 0.9167\n",
            "Epoch 5/20\n",
            "8/8 [==============================] - 34s 4s/step - loss: 0.0028 - accuracy: 1.0000 - val_loss: 0.3960 - val_accuracy: 0.9333\n",
            "Epoch 6/20\n",
            "8/8 [==============================] - 34s 4s/step - loss: 0.0024 - accuracy: 1.0000 - val_loss: 0.4162 - val_accuracy: 0.9500\n",
            "Epoch 7/20\n",
            "8/8 [==============================] - 34s 4s/step - loss: 0.0029 - accuracy: 1.0000 - val_loss: 0.3916 - val_accuracy: 0.9333\n",
            "Epoch 8/20\n",
            "8/8 [==============================] - 34s 4s/step - loss: 6.6817e-04 - accuracy: 1.0000 - val_loss: 0.4003 - val_accuracy: 0.9333\n",
            "Epoch 9/20\n",
            "8/8 [==============================] - 34s 4s/step - loss: 4.3098e-04 - accuracy: 1.0000 - val_loss: 0.3951 - val_accuracy: 0.9333\n",
            "Epoch 10/20\n",
            "8/8 [==============================] - 34s 5s/step - loss: 3.5045e-04 - accuracy: 1.0000 - val_loss: 0.4019 - val_accuracy: 0.9333\n",
            "Epoch 11/20\n",
            "8/8 [==============================] - 34s 4s/step - loss: 2.8719e-04 - accuracy: 1.0000 - val_loss: 0.4174 - val_accuracy: 0.9333\n",
            "Epoch 12/20\n",
            "8/8 [==============================] - 34s 4s/step - loss: 3.1920e-04 - accuracy: 1.0000 - val_loss: 0.4296 - val_accuracy: 0.9167\n",
            "Epoch 13/20\n",
            "8/8 [==============================] - 36s 4s/step - loss: 3.2536e-04 - accuracy: 1.0000 - val_loss: 0.4190 - val_accuracy: 0.9333\n",
            "Epoch 14/20\n",
            "8/8 [==============================] - 34s 4s/step - loss: 1.6697e-04 - accuracy: 1.0000 - val_loss: 0.4153 - val_accuracy: 0.9333\n",
            "Epoch 15/20\n",
            "8/8 [==============================] - 34s 5s/step - loss: 8.7741e-05 - accuracy: 1.0000 - val_loss: 0.4185 - val_accuracy: 0.9333\n",
            "Epoch 16/20\n",
            "5/8 [=================>............] - ETA: 10s - loss: 1.1202e-04 - accuracy: 1.0000"
          ]
        }
      ]
    }
  ]
}